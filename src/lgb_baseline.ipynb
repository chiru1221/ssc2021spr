{
 "metadata": {
  "language_info": {
   "codemirror_mode": {
    "name": "ipython",
    "version": 3
   },
   "file_extension": ".py",
   "mimetype": "text/x-python",
   "name": "python",
   "nbconvert_exporter": "python",
   "pygments_lexer": "ipython3",
   "version": "3.8.5"
  },
  "orig_nbformat": 2,
  "kernelspec": {
   "name": "python385jvsc74a57bd00190184f7dabd305ed21ad3b7e60d82205ab4a453bac9bd9582c8b47a8380031",
   "display_name": "Python 3.8.5 64-bit ('compe': conda)"
  }
 },
 "nbformat": 4,
 "nbformat_minor": 2,
 "cells": [
  {
   "cell_type": "code",
   "execution_count": 2,
   "metadata": {},
   "outputs": [],
   "source": [
    "import numpy as np\n",
    "import pandas as pd\n",
    "import matplotlib.pyplot as plt\n",
    "import lightgbm as lgb\n",
    "import optuna\n",
    "import  os\n",
    "from sklearn.metrics import f1_score\n",
    "from sklearn.model_selection import StratifiedKFold\n",
    "from utils import Optuna_for_LGB\n",
    "from preprocess import convert_notation, region_encoding\n",
    "PATH = '../data/'\n",
    "TRAIN = False"
   ]
  },
  {
   "cell_type": "code",
   "execution_count": 3,
   "metadata": {},
   "outputs": [
    {
     "output_type": "stream",
     "name": "stdout",
     "text": [
      "(4043, 16) (4046, 15)\n"
     ]
    },
    {
     "output_type": "execute_result",
     "data": {
      "text/plain": [
       "   index  genre  popularity  duration_ms  acousticness  positiveness  \\\n",
       "0      0     10          11       201094      0.112811      0.157247   \n",
       "1      1      8          69       308493      0.101333      0.346563   \n",
       "2      2      3          43       197225      0.496420      0.265391   \n",
       "3      3     10          45       301092      0.165667      0.245533   \n",
       "4      4      3          57       277348      0.190720      0.777578   \n",
       "\n",
       "   danceability  loudness    energy  liveness  speechiness  instrumentalness  \\\n",
       "0      0.187841 -1.884852  0.893918  0.363568     0.390108          0.888884   \n",
       "1      0.554444 -5.546495  0.874409  0.193892     0.161497          0.123910   \n",
       "2      0.457642 -9.255670  0.439933  0.217146     0.369057          0.166470   \n",
       "3      0.356578 -5.088788  0.868704  0.377025     0.226677          0.175399   \n",
       "4      0.830479 -3.933896  0.650149  0.169323     0.222488          0.226030   \n",
       "\n",
       "   tempo  region  tempo_min  tempo_max  \n",
       "0     31       7        121        152  \n",
       "1     23       8        153        176  \n",
       "2     12       4         64         76  \n",
       "3     15       2        177        192  \n",
       "4     23      19         97        120  "
      ],
      "text/html": "<div>\n<style scoped>\n    .dataframe tbody tr th:only-of-type {\n        vertical-align: middle;\n    }\n\n    .dataframe tbody tr th {\n        vertical-align: top;\n    }\n\n    .dataframe thead th {\n        text-align: right;\n    }\n</style>\n<table border=\"1\" class=\"dataframe\">\n  <thead>\n    <tr style=\"text-align: right;\">\n      <th></th>\n      <th>index</th>\n      <th>genre</th>\n      <th>popularity</th>\n      <th>duration_ms</th>\n      <th>acousticness</th>\n      <th>positiveness</th>\n      <th>danceability</th>\n      <th>loudness</th>\n      <th>energy</th>\n      <th>liveness</th>\n      <th>speechiness</th>\n      <th>instrumentalness</th>\n      <th>tempo</th>\n      <th>region</th>\n      <th>tempo_min</th>\n      <th>tempo_max</th>\n    </tr>\n  </thead>\n  <tbody>\n    <tr>\n      <th>0</th>\n      <td>0</td>\n      <td>10</td>\n      <td>11</td>\n      <td>201094</td>\n      <td>0.112811</td>\n      <td>0.157247</td>\n      <td>0.187841</td>\n      <td>-1.884852</td>\n      <td>0.893918</td>\n      <td>0.363568</td>\n      <td>0.390108</td>\n      <td>0.888884</td>\n      <td>31</td>\n      <td>7</td>\n      <td>121</td>\n      <td>152</td>\n    </tr>\n    <tr>\n      <th>1</th>\n      <td>1</td>\n      <td>8</td>\n      <td>69</td>\n      <td>308493</td>\n      <td>0.101333</td>\n      <td>0.346563</td>\n      <td>0.554444</td>\n      <td>-5.546495</td>\n      <td>0.874409</td>\n      <td>0.193892</td>\n      <td>0.161497</td>\n      <td>0.123910</td>\n      <td>23</td>\n      <td>8</td>\n      <td>153</td>\n      <td>176</td>\n    </tr>\n    <tr>\n      <th>2</th>\n      <td>2</td>\n      <td>3</td>\n      <td>43</td>\n      <td>197225</td>\n      <td>0.496420</td>\n      <td>0.265391</td>\n      <td>0.457642</td>\n      <td>-9.255670</td>\n      <td>0.439933</td>\n      <td>0.217146</td>\n      <td>0.369057</td>\n      <td>0.166470</td>\n      <td>12</td>\n      <td>4</td>\n      <td>64</td>\n      <td>76</td>\n    </tr>\n    <tr>\n      <th>3</th>\n      <td>3</td>\n      <td>10</td>\n      <td>45</td>\n      <td>301092</td>\n      <td>0.165667</td>\n      <td>0.245533</td>\n      <td>0.356578</td>\n      <td>-5.088788</td>\n      <td>0.868704</td>\n      <td>0.377025</td>\n      <td>0.226677</td>\n      <td>0.175399</td>\n      <td>15</td>\n      <td>2</td>\n      <td>177</td>\n      <td>192</td>\n    </tr>\n    <tr>\n      <th>4</th>\n      <td>4</td>\n      <td>3</td>\n      <td>57</td>\n      <td>277348</td>\n      <td>0.190720</td>\n      <td>0.777578</td>\n      <td>0.830479</td>\n      <td>-3.933896</td>\n      <td>0.650149</td>\n      <td>0.169323</td>\n      <td>0.222488</td>\n      <td>0.226030</td>\n      <td>23</td>\n      <td>19</td>\n      <td>97</td>\n      <td>120</td>\n    </tr>\n  </tbody>\n</table>\n</div>"
     },
     "metadata": {},
     "execution_count": 3
    }
   ],
   "source": [
    "train_df = pd.read_csv(PATH + 'train.csv')\n",
    "test_df = pd.read_csv(PATH + 'test.csv')\n",
    "train_df = convert_notation(train_df)\n",
    "test_df = convert_notation(test_df)\n",
    "train_df, test_df, _ = region_encoding(train_df, test_df)\n",
    "print(train_df.shape, test_df.shape)\n",
    "train_df.head()"
   ]
  },
  {
   "cell_type": "code",
   "execution_count": 4,
   "metadata": {},
   "outputs": [],
   "source": [
    "objective_args = {\n",
    "    'num_leaves': {\n",
    "        'type': 'int',\n",
    "        'suggest_args': {\n",
    "            'name': 'num_leaves',\n",
    "            'low': 2,\n",
    "            'high': 128,\n",
    "        }\n",
    "    },\n",
    "    'max_depth': {\n",
    "        'type': 'int',\n",
    "        'suggest_args': {\n",
    "            'name': 'max_depth',\n",
    "            'low': 3,\n",
    "            'high': 8,\n",
    "        }\n",
    "    },\n",
    "    'min_data_in_leaf': {\n",
    "        'type': 'int',\n",
    "        'suggest_args': {\n",
    "            'name': 'min_data_in_leaf',\n",
    "            'low': 5,\n",
    "            'high': 90,\n",
    "        }\n",
    "    },\n",
    "    'n_estimators': {\n",
    "        'type': 'int',\n",
    "        'suggest_args': {\n",
    "            'name': 'n_estimators',\n",
    "            'low': 100,\n",
    "            'high': 1000,\n",
    "        }\n",
    "    },\n",
    "    'learning_rate': {\n",
    "        'type': 'uniform',\n",
    "        'suggest_args': {\n",
    "            'name': 'learning_rate',\n",
    "            'low': 0.0001,\n",
    "            'high': 0.1\n",
    "        }\n",
    "    },\n",
    "    'bagging_fraction': {\n",
    "        'type': 'uniform',\n",
    "        'suggest_args': {\n",
    "            'name': 'bagging_fraction',\n",
    "            'low': 0.0001,\n",
    "            'high': 1.0,\n",
    "        }\n",
    "    },\n",
    "    'feature_fraction': {\n",
    "        'type': 'uniform',\n",
    "        'suggest_args': {\n",
    "            'name': 'feature_fraction',\n",
    "            'low': 0.0001,\n",
    "            'high': 1.0,\n",
    "        }\n",
    "    },\n",
    "    'random_state': {\n",
    "        'type': 'default',\n",
    "        'value': 0\n",
    "    },\n",
    "    'objective': {\n",
    "        'type': 'default',\n",
    "        'value': 'cross_entropy'\n",
    "    },\n",
    "    'num_class': {\n",
    "        'type': 'default',\n",
    "        'value': 11\n",
    "    },\n",
    "}\n",
    "def evaluate_macroF1_lgb(true, pred):  \n",
    "    # this follows the discussion in https://github.com/Microsoft/LightGBM/issues/1483\n",
    "    pred = pred.reshape(len(np.unique(true)), -1).argmax(axis=0)\n",
    "    f1 = f1_score(true, pred, average='macro')\n",
    "    return ('macroF1', f1, True) \n",
    "\n",
    "pipeline_args = {\n",
    "    'fit_attr': 'fit',\n",
    "    'pred_attr': 'predict',\n",
    "    'fit_args': {\n",
    "        # 'X': x_train,\n",
    "        # 'y': y_train,\n",
    "        # 'eval_set': (x_test, y_test),\n",
    "        'eval_metric': evaluate_macroF1_lgb,\n",
    "        'eval_names': ['validation'],\n",
    "        'early_stopping_rounds': 50,\n",
    "        'verbose': -1,\n",
    "        # 'feature_name': columns\n",
    "        'categorical_feature': ['region']\n",
    "    },\n",
    "    # 'pred_args': {'X': x_test},\n",
    "    'metric': lambda true, pred: f1_score(true, pred, average='macro'),\n",
    "    # 'metric_args': {'true': y_test},\n",
    "    'model': lgb.LGBMClassifier,\n",
    "}"
   ]
  },
  {
   "cell_type": "code",
   "execution_count": 5,
   "metadata": {
    "tags": []
   },
   "outputs": [],
   "source": [
    "columns = list(test_df.columns)\n",
    "columns.remove('index')\n",
    "cv_num = 10\n",
    "kf = StratifiedKFold(n_splits=cv_num, shuffle=True, random_state=0)\n",
    "name = 'lgb_baseline'\n",
    "x, y = train_df[columns], train_df.genre\n",
    "ofl = Optuna_for_LGB()\n",
    "optuna.logging.disable_default_handler()\n",
    "score = list()\n",
    "for cv, (train_valid_idx, test_idx) in enumerate(kf.split(np.zeros(train_df.shape[0]), y)):\n",
    "    x_tv, x_test = x.iloc[train_valid_idx], x.iloc[test_idx]\n",
    "    y_tv, y_test = y.iloc[train_valid_idx], y.iloc[test_idx]\n",
    "    cv_score = list()\n",
    "    for valid_cv, (train_idx, valid_idx) in enumerate(kf.split(np.zeros(x_tv.shape[0]), y_tv)):\n",
    "        x_train, x_valid = x_tv.iloc[train_idx], x_tv.iloc[valid_idx]\n",
    "        y_train, y_valid = y_tv.iloc[train_idx], y_tv.iloc[valid_idx]\n",
    "        pipeline_args['fit_args']['X'] = x_train\n",
    "        pipeline_args['fit_args']['y'] = y_train\n",
    "        pipeline_args['fit_args']['eval_set'] = (x_valid, y_valid)\n",
    "        pipeline_args['fit_args']['feature_name'] = columns\n",
    "        pipeline_args['pred_args'] = {'X': x_valid}\n",
    "        pipeline_args['metric_args'] = {'true': y_valid}\n",
    "        if TRAIN:\n",
    "            params = ofl.parameter_tuning(pipeline_args, objective_args, 1000, -1, 0)\n",
    "\n",
    "            best_iteration = params.pop('best_iteration_')\n",
    "            model = lgb.LGBMClassifier(**params)\n",
    "            model.fit(**pipeline_args['fit_args'])\n",
    "            y_pred = model.predict_proba(x_test, model.best_iteration_)\n",
    "            model.booster_.save_model('../model/{0}_{1}_{2}.txt'.format(name, cv, valid_cv))\n",
    "        else:\n",
    "            model = lgb.Booster(model_file='../model/{0}_{1}_{2}.txt'.format(name, cv, valid_cv))\n",
    "            y_pred = model.predict(x_test).astype(np.float64)\n",
    "\n",
    "        cv_score.append(f1_score(y_test, np.argmax(y_pred, axis=1), average='macro'))\n",
    "    score.append(cv_score)"
   ]
  },
  {
   "cell_type": "code",
   "execution_count": 6,
   "metadata": {},
   "outputs": [
    {
     "output_type": "execute_result",
     "data": {
      "text/plain": [
       "([[0.5902938095220058,\n",
       "   0.45529333249896614,\n",
       "   0.5100288374587856,\n",
       "   0.5037402021259015,\n",
       "   0.5506471762512652,\n",
       "   0.5153526509853638,\n",
       "   0.4699787336070628,\n",
       "   0.4890624004667756,\n",
       "   0.5171116207085972,\n",
       "   0.5282922623781606],\n",
       "  [0.5684686669900216,\n",
       "   0.5145984314370303,\n",
       "   0.5106398191825999,\n",
       "   0.5696929755937685,\n",
       "   0.5158189630457843,\n",
       "   0.5552658380075003,\n",
       "   0.5317796719171406,\n",
       "   0.5714927181489052,\n",
       "   0.5912739072108569,\n",
       "   0.5423666203996015],\n",
       "  [0.49909003930123536,\n",
       "   0.505978750915096,\n",
       "   0.523172503031658,\n",
       "   0.5198383471275733,\n",
       "   0.49765957076640394,\n",
       "   0.5314841838984161,\n",
       "   0.5292033228610339,\n",
       "   0.5624964902421431,\n",
       "   0.5357368253282841,\n",
       "   0.5299577644383628],\n",
       "  [0.5018753653925706,\n",
       "   0.564852204566455,\n",
       "   0.5616459520871286,\n",
       "   0.5161911967608392,\n",
       "   0.519204233475054,\n",
       "   0.5411480930066099,\n",
       "   0.507118918884805,\n",
       "   0.5428205554581995,\n",
       "   0.5203085495722288,\n",
       "   0.552419409221917],\n",
       "  [0.5068797079301605,\n",
       "   0.6070435113863105,\n",
       "   0.5529636747028053,\n",
       "   0.4338027950684875,\n",
       "   0.6107185311759926,\n",
       "   0.5926899735372267,\n",
       "   0.6412166660236107,\n",
       "   0.5958427530623743,\n",
       "   0.6256506548268562,\n",
       "   0.6370403441096362],\n",
       "  [0.4551940607150789,\n",
       "   0.47148587990779095,\n",
       "   0.4652640739491389,\n",
       "   0.4417729202234162,\n",
       "   0.440629790768446,\n",
       "   0.4349677988310246,\n",
       "   0.511122691035768,\n",
       "   0.4799925613385968,\n",
       "   0.4626678104200957,\n",
       "   0.4796836831002263],\n",
       "  [0.6140610613757927,\n",
       "   0.6534004935159659,\n",
       "   0.6395669179213139,\n",
       "   0.6157719078809591,\n",
       "   0.5682685886789857,\n",
       "   0.6253889830786157,\n",
       "   0.6100808980822712,\n",
       "   0.5442616690265593,\n",
       "   0.523198559950746,\n",
       "   0.5922654839935404],\n",
       "  [0.4838022333717575,\n",
       "   0.5539102348408481,\n",
       "   0.520260358469566,\n",
       "   0.48495631778450404,\n",
       "   0.5353058411339524,\n",
       "   0.5369602607628716,\n",
       "   0.540761916383783,\n",
       "   0.5373951532972407,\n",
       "   0.5209380520986162,\n",
       "   0.5285927920101318],\n",
       "  [0.3984276005001022,\n",
       "   0.38044820441559307,\n",
       "   0.41820405722113557,\n",
       "   0.404159773888563,\n",
       "   0.3998363416880186,\n",
       "   0.43026389743910975,\n",
       "   0.39358258752320513,\n",
       "   0.38699637698272427,\n",
       "   0.42397761959891916,\n",
       "   0.4285881306031259],\n",
       "  [0.5159056264743104,\n",
       "   0.5012966919023462,\n",
       "   0.511345574851561,\n",
       "   0.526224405119686,\n",
       "   0.47107831213297596,\n",
       "   0.5315727103160259,\n",
       "   0.523435724903305,\n",
       "   0.5139921066348266,\n",
       "   0.5181635713422234,\n",
       "   0.5278654606576685]],\n",
       " array([0.5129801 , 0.54713976, 0.52346178, 0.53275845, 0.58038486,\n",
       "        0.46427813, 0.59862646, 0.52428832, 0.40644846, 0.51408802]),\n",
       " 0.520445432942386)"
      ]
     },
     "metadata": {},
     "execution_count": 6
    }
   ],
   "source": [
    "score, np.mean(score, axis=1), np.mean(score)"
   ]
  },
  {
   "cell_type": "code",
   "execution_count": 7,
   "metadata": {},
   "outputs": [
    {
     "output_type": "execute_result",
     "data": {
      "text/plain": [
       "     ID  Pred\n",
       "0  4046     8\n",
       "1  4047    10\n",
       "2  4048     8\n",
       "3  4049    10\n",
       "4  4050     8"
      ],
      "text/html": "<div>\n<style scoped>\n    .dataframe tbody tr th:only-of-type {\n        vertical-align: middle;\n    }\n\n    .dataframe tbody tr th {\n        vertical-align: top;\n    }\n\n    .dataframe thead th {\n        text-align: right;\n    }\n</style>\n<table border=\"1\" class=\"dataframe\">\n  <thead>\n    <tr style=\"text-align: right;\">\n      <th></th>\n      <th>ID</th>\n      <th>Pred</th>\n    </tr>\n  </thead>\n  <tbody>\n    <tr>\n      <th>0</th>\n      <td>4046</td>\n      <td>8</td>\n    </tr>\n    <tr>\n      <th>1</th>\n      <td>4047</td>\n      <td>10</td>\n    </tr>\n    <tr>\n      <th>2</th>\n      <td>4048</td>\n      <td>8</td>\n    </tr>\n    <tr>\n      <th>3</th>\n      <td>4049</td>\n      <td>10</td>\n    </tr>\n    <tr>\n      <th>4</th>\n      <td>4050</td>\n      <td>8</td>\n    </tr>\n  </tbody>\n</table>\n</div>"
     },
     "metadata": {},
     "execution_count": 7
    }
   ],
   "source": [
    "sub_df = pd.read_csv(PATH + 'sample_submit.csv', header=None, names=['ID', 'Pred'])\n",
    "prediction = np.zeros((test_df.shape[0], 11), dtype=np.float64)\n",
    "x = test_df[columns]\n",
    "for i in range(cv_num):\n",
    "    for j in range(cv_num):\n",
    "        model = lgb.Booster(model_file='../model/{0}_{1}_{2}.txt'.format(name, i, j))\n",
    "        pred = model.predict(x).astype(np.float64)\n",
    "        prediction += pred\n",
    "prediction /= 100.0\n",
    "sub_df.Pred = np.argmax(prediction, axis=1)\n",
    "sub_df.head()"
   ]
  },
  {
   "cell_type": "code",
   "execution_count": 8,
   "metadata": {},
   "outputs": [
    {
     "output_type": "execute_result",
     "data": {
      "text/plain": [
       "<AxesSubplot:>"
      ]
     },
     "metadata": {},
     "execution_count": 8
    },
    {
     "output_type": "display_data",
     "data": {
      "text/plain": "<Figure size 432x288 with 1 Axes>",
      "image/svg+xml": "<?xml version=\"1.0\" encoding=\"utf-8\" standalone=\"no\"?>\r\n<!DOCTYPE svg PUBLIC \"-//W3C//DTD SVG 1.1//EN\"\r\n  \"http://www.w3.org/Graphics/SVG/1.1/DTD/svg11.dtd\">\r\n<!-- Created with matplotlib (https://matplotlib.org/) -->\r\n<svg height=\"248.518125pt\" version=\"1.1\" viewBox=\"0 0 381.65 248.518125\" width=\"381.65pt\" xmlns=\"http://www.w3.org/2000/svg\" xmlns:xlink=\"http://www.w3.org/1999/xlink\">\r\n <metadata>\r\n  <rdf:RDF xmlns:cc=\"http://creativecommons.org/ns#\" xmlns:dc=\"http://purl.org/dc/elements/1.1/\" xmlns:rdf=\"http://www.w3.org/1999/02/22-rdf-syntax-ns#\">\r\n   <cc:Work>\r\n    <dc:type rdf:resource=\"http://purl.org/dc/dcmitype/StillImage\"/>\r\n    <dc:date>2021-04-19T12:37:46.138743</dc:date>\r\n    <dc:format>image/svg+xml</dc:format>\r\n    <dc:creator>\r\n     <cc:Agent>\r\n      <dc:title>Matplotlib v3.3.2, https://matplotlib.org/</dc:title>\r\n     </cc:Agent>\r\n    </dc:creator>\r\n   </cc:Work>\r\n  </rdf:RDF>\r\n </metadata>\r\n <defs>\r\n  <style type=\"text/css\">*{stroke-linecap:butt;stroke-linejoin:round;}</style>\r\n </defs>\r\n <g id=\"figure_1\">\r\n  <g id=\"patch_1\">\r\n   <path d=\"M -0 248.518125 \r\nL 381.65 248.518125 \r\nL 381.65 0 \r\nL -0 0 \r\nz\r\n\" style=\"fill:none;\"/>\r\n  </g>\r\n  <g id=\"axes_1\">\r\n   <g id=\"patch_2\">\r\n    <path d=\"M 39.65 224.64 \r\nL 374.45 224.64 \r\nL 374.45 7.2 \r\nL 39.65 7.2 \r\nz\r\n\" style=\"fill:#ffffff;\"/>\r\n   </g>\r\n   <g id=\"patch_3\">\r\n    <path clip-path=\"url(#p00ce3c329c)\" d=\"M 54.868182 224.64 \r\nL 82.537603 224.64 \r\nL 82.537603 222.396241 \r\nL 54.868182 222.396241 \r\nz\r\n\" style=\"fill:#1f77b4;\"/>\r\n   </g>\r\n   <g id=\"patch_4\">\r\n    <path clip-path=\"url(#p00ce3c329c)\" d=\"M 82.537603 224.64 \r\nL 110.207025 224.64 \r\nL 110.207025 216.720852 \r\nL 82.537603 216.720852 \r\nz\r\n\" style=\"fill:#1f77b4;\"/>\r\n   </g>\r\n   <g id=\"patch_5\">\r\n    <path clip-path=\"url(#p00ce3c329c)\" d=\"M 110.207025 224.64 \r\nL 137.876446 224.64 \r\nL 137.876446 212.233335 \r\nL 110.207025 212.233335 \r\nz\r\n\" style=\"fill:#1f77b4;\"/>\r\n   </g>\r\n   <g id=\"patch_6\">\r\n    <path clip-path=\"url(#p00ce3c329c)\" d=\"M 137.876446 224.64 \r\nL 165.545868 224.64 \r\nL 165.545868 175.409298 \r\nL 137.876446 175.409298 \r\nz\r\n\" style=\"fill:#1f77b4;\"/>\r\n   </g>\r\n   <g id=\"patch_7\">\r\n    <path clip-path=\"url(#p00ce3c329c)\" d=\"M 165.545868 224.64 \r\nL 193.215289 224.64 \r\nL 193.215289 221.472341 \r\nL 165.545868 221.472341 \r\nz\r\n\" style=\"fill:#1f77b4;\"/>\r\n   </g>\r\n   <g id=\"patch_8\">\r\n    <path clip-path=\"url(#p00ce3c329c)\" d=\"M 193.215289 224.64 \r\nL 220.884711 224.64 \r\nL 220.884711 217.512767 \r\nL 193.215289 217.512767 \r\nz\r\n\" style=\"fill:#1f77b4;\"/>\r\n   </g>\r\n   <g id=\"patch_9\">\r\n    <path clip-path=\"url(#p00ce3c329c)\" d=\"M 220.884711 224.64 \r\nL 248.554132 224.64 \r\nL 248.554132 222.792199 \r\nL 220.884711 222.792199 \r\nz\r\n\" style=\"fill:#1f77b4;\"/>\r\n   </g>\r\n   <g id=\"patch_10\">\r\n    <path clip-path=\"url(#p00ce3c329c)\" d=\"M 248.554132 224.64 \r\nL 276.223554 224.64 \r\nL 276.223554 185.044261 \r\nL 248.554132 185.044261 \r\nz\r\n\" style=\"fill:#1f77b4;\"/>\r\n   </g>\r\n   <g id=\"patch_11\">\r\n    <path clip-path=\"url(#p00ce3c329c)\" d=\"M 276.223554 224.64 \r\nL 303.892975 224.64 \r\nL 303.892975 17.554286 \r\nL 276.223554 17.554286 \r\nz\r\n\" style=\"fill:#1f77b4;\"/>\r\n   </g>\r\n   <g id=\"patch_12\">\r\n    <path clip-path=\"url(#p00ce3c329c)\" d=\"M 303.892975 224.64 \r\nL 331.562397 224.64 \r\nL 331.562397 217.644753 \r\nL 303.892975 217.644753 \r\nz\r\n\" style=\"fill:#1f77b4;\"/>\r\n   </g>\r\n   <g id=\"patch_13\">\r\n    <path clip-path=\"url(#p00ce3c329c)\" d=\"M 331.562397 224.64 \r\nL 359.231818 224.64 \r\nL 359.231818 28.245135 \r\nL 331.562397 28.245135 \r\nz\r\n\" style=\"fill:#1f77b4;\"/>\r\n   </g>\r\n   <g id=\"matplotlib.axis_1\">\r\n    <g id=\"xtick_1\">\r\n     <g id=\"line2d_1\">\r\n      <path clip-path=\"url(#p00ce3c329c)\" d=\"M 54.868182 224.64 \r\nL 54.868182 7.2 \r\n\" style=\"fill:none;stroke:#b0b0b0;stroke-linecap:square;stroke-width:0.8;\"/>\r\n     </g>\r\n     <g id=\"line2d_2\">\r\n      <defs>\r\n       <path d=\"M 0 0 \r\nL 0 3.5 \r\n\" id=\"mce7951a1d5\" style=\"stroke:#000000;stroke-width:0.8;\"/>\r\n      </defs>\r\n      <g>\r\n       <use style=\"stroke:#000000;stroke-width:0.8;\" x=\"54.868182\" xlink:href=\"#mce7951a1d5\" y=\"224.64\"/>\r\n      </g>\r\n     </g>\r\n     <g id=\"text_1\">\r\n      <!-- 0 -->\r\n      <g transform=\"translate(51.686932 239.238437)scale(0.1 -0.1)\">\r\n       <defs>\r\n        <path d=\"M 31.78125 66.40625 \r\nQ 24.171875 66.40625 20.328125 58.90625 \r\nQ 16.5 51.421875 16.5 36.375 \r\nQ 16.5 21.390625 20.328125 13.890625 \r\nQ 24.171875 6.390625 31.78125 6.390625 \r\nQ 39.453125 6.390625 43.28125 13.890625 \r\nQ 47.125 21.390625 47.125 36.375 \r\nQ 47.125 51.421875 43.28125 58.90625 \r\nQ 39.453125 66.40625 31.78125 66.40625 \r\nz\r\nM 31.78125 74.21875 \r\nQ 44.046875 74.21875 50.515625 64.515625 \r\nQ 56.984375 54.828125 56.984375 36.375 \r\nQ 56.984375 17.96875 50.515625 8.265625 \r\nQ 44.046875 -1.421875 31.78125 -1.421875 \r\nQ 19.53125 -1.421875 13.0625 8.265625 \r\nQ 6.59375 17.96875 6.59375 36.375 \r\nQ 6.59375 54.828125 13.0625 64.515625 \r\nQ 19.53125 74.21875 31.78125 74.21875 \r\nz\r\n\" id=\"DejaVuSans-48\"/>\r\n       </defs>\r\n       <use xlink:href=\"#DejaVuSans-48\"/>\r\n      </g>\r\n     </g>\r\n    </g>\r\n    <g id=\"xtick_2\">\r\n     <g id=\"line2d_3\">\r\n      <path clip-path=\"url(#p00ce3c329c)\" d=\"M 110.207025 224.64 \r\nL 110.207025 7.2 \r\n\" style=\"fill:none;stroke:#b0b0b0;stroke-linecap:square;stroke-width:0.8;\"/>\r\n     </g>\r\n     <g id=\"line2d_4\">\r\n      <g>\r\n       <use style=\"stroke:#000000;stroke-width:0.8;\" x=\"110.207025\" xlink:href=\"#mce7951a1d5\" y=\"224.64\"/>\r\n      </g>\r\n     </g>\r\n     <g id=\"text_2\">\r\n      <!-- 2 -->\r\n      <g transform=\"translate(107.025775 239.238437)scale(0.1 -0.1)\">\r\n       <defs>\r\n        <path d=\"M 19.1875 8.296875 \r\nL 53.609375 8.296875 \r\nL 53.609375 0 \r\nL 7.328125 0 \r\nL 7.328125 8.296875 \r\nQ 12.9375 14.109375 22.625 23.890625 \r\nQ 32.328125 33.6875 34.8125 36.53125 \r\nQ 39.546875 41.84375 41.421875 45.53125 \r\nQ 43.3125 49.21875 43.3125 52.78125 \r\nQ 43.3125 58.59375 39.234375 62.25 \r\nQ 35.15625 65.921875 28.609375 65.921875 \r\nQ 23.96875 65.921875 18.8125 64.3125 \r\nQ 13.671875 62.703125 7.8125 59.421875 \r\nL 7.8125 69.390625 \r\nQ 13.765625 71.78125 18.9375 73 \r\nQ 24.125 74.21875 28.421875 74.21875 \r\nQ 39.75 74.21875 46.484375 68.546875 \r\nQ 53.21875 62.890625 53.21875 53.421875 \r\nQ 53.21875 48.921875 51.53125 44.890625 \r\nQ 49.859375 40.875 45.40625 35.40625 \r\nQ 44.1875 33.984375 37.640625 27.21875 \r\nQ 31.109375 20.453125 19.1875 8.296875 \r\nz\r\n\" id=\"DejaVuSans-50\"/>\r\n       </defs>\r\n       <use xlink:href=\"#DejaVuSans-50\"/>\r\n      </g>\r\n     </g>\r\n    </g>\r\n    <g id=\"xtick_3\">\r\n     <g id=\"line2d_5\">\r\n      <path clip-path=\"url(#p00ce3c329c)\" d=\"M 165.545868 224.64 \r\nL 165.545868 7.2 \r\n\" style=\"fill:none;stroke:#b0b0b0;stroke-linecap:square;stroke-width:0.8;\"/>\r\n     </g>\r\n     <g id=\"line2d_6\">\r\n      <g>\r\n       <use style=\"stroke:#000000;stroke-width:0.8;\" x=\"165.545868\" xlink:href=\"#mce7951a1d5\" y=\"224.64\"/>\r\n      </g>\r\n     </g>\r\n     <g id=\"text_3\">\r\n      <!-- 4 -->\r\n      <g transform=\"translate(162.364618 239.238437)scale(0.1 -0.1)\">\r\n       <defs>\r\n        <path d=\"M 37.796875 64.3125 \r\nL 12.890625 25.390625 \r\nL 37.796875 25.390625 \r\nz\r\nM 35.203125 72.90625 \r\nL 47.609375 72.90625 \r\nL 47.609375 25.390625 \r\nL 58.015625 25.390625 \r\nL 58.015625 17.1875 \r\nL 47.609375 17.1875 \r\nL 47.609375 0 \r\nL 37.796875 0 \r\nL 37.796875 17.1875 \r\nL 4.890625 17.1875 \r\nL 4.890625 26.703125 \r\nz\r\n\" id=\"DejaVuSans-52\"/>\r\n       </defs>\r\n       <use xlink:href=\"#DejaVuSans-52\"/>\r\n      </g>\r\n     </g>\r\n    </g>\r\n    <g id=\"xtick_4\">\r\n     <g id=\"line2d_7\">\r\n      <path clip-path=\"url(#p00ce3c329c)\" d=\"M 220.884711 224.64 \r\nL 220.884711 7.2 \r\n\" style=\"fill:none;stroke:#b0b0b0;stroke-linecap:square;stroke-width:0.8;\"/>\r\n     </g>\r\n     <g id=\"line2d_8\">\r\n      <g>\r\n       <use style=\"stroke:#000000;stroke-width:0.8;\" x=\"220.884711\" xlink:href=\"#mce7951a1d5\" y=\"224.64\"/>\r\n      </g>\r\n     </g>\r\n     <g id=\"text_4\">\r\n      <!-- 6 -->\r\n      <g transform=\"translate(217.703461 239.238437)scale(0.1 -0.1)\">\r\n       <defs>\r\n        <path d=\"M 33.015625 40.375 \r\nQ 26.375 40.375 22.484375 35.828125 \r\nQ 18.609375 31.296875 18.609375 23.390625 \r\nQ 18.609375 15.53125 22.484375 10.953125 \r\nQ 26.375 6.390625 33.015625 6.390625 \r\nQ 39.65625 6.390625 43.53125 10.953125 \r\nQ 47.40625 15.53125 47.40625 23.390625 \r\nQ 47.40625 31.296875 43.53125 35.828125 \r\nQ 39.65625 40.375 33.015625 40.375 \r\nz\r\nM 52.59375 71.296875 \r\nL 52.59375 62.3125 \r\nQ 48.875 64.0625 45.09375 64.984375 \r\nQ 41.3125 65.921875 37.59375 65.921875 \r\nQ 27.828125 65.921875 22.671875 59.328125 \r\nQ 17.53125 52.734375 16.796875 39.40625 \r\nQ 19.671875 43.65625 24.015625 45.921875 \r\nQ 28.375 48.1875 33.59375 48.1875 \r\nQ 44.578125 48.1875 50.953125 41.515625 \r\nQ 57.328125 34.859375 57.328125 23.390625 \r\nQ 57.328125 12.15625 50.6875 5.359375 \r\nQ 44.046875 -1.421875 33.015625 -1.421875 \r\nQ 20.359375 -1.421875 13.671875 8.265625 \r\nQ 6.984375 17.96875 6.984375 36.375 \r\nQ 6.984375 53.65625 15.1875 63.9375 \r\nQ 23.390625 74.21875 37.203125 74.21875 \r\nQ 40.921875 74.21875 44.703125 73.484375 \r\nQ 48.484375 72.75 52.59375 71.296875 \r\nz\r\n\" id=\"DejaVuSans-54\"/>\r\n       </defs>\r\n       <use xlink:href=\"#DejaVuSans-54\"/>\r\n      </g>\r\n     </g>\r\n    </g>\r\n    <g id=\"xtick_5\">\r\n     <g id=\"line2d_9\">\r\n      <path clip-path=\"url(#p00ce3c329c)\" d=\"M 276.223554 224.64 \r\nL 276.223554 7.2 \r\n\" style=\"fill:none;stroke:#b0b0b0;stroke-linecap:square;stroke-width:0.8;\"/>\r\n     </g>\r\n     <g id=\"line2d_10\">\r\n      <g>\r\n       <use style=\"stroke:#000000;stroke-width:0.8;\" x=\"276.223554\" xlink:href=\"#mce7951a1d5\" y=\"224.64\"/>\r\n      </g>\r\n     </g>\r\n     <g id=\"text_5\">\r\n      <!-- 8 -->\r\n      <g transform=\"translate(273.042304 239.238437)scale(0.1 -0.1)\">\r\n       <defs>\r\n        <path d=\"M 31.78125 34.625 \r\nQ 24.75 34.625 20.71875 30.859375 \r\nQ 16.703125 27.09375 16.703125 20.515625 \r\nQ 16.703125 13.921875 20.71875 10.15625 \r\nQ 24.75 6.390625 31.78125 6.390625 \r\nQ 38.8125 6.390625 42.859375 10.171875 \r\nQ 46.921875 13.96875 46.921875 20.515625 \r\nQ 46.921875 27.09375 42.890625 30.859375 \r\nQ 38.875 34.625 31.78125 34.625 \r\nz\r\nM 21.921875 38.8125 \r\nQ 15.578125 40.375 12.03125 44.71875 \r\nQ 8.5 49.078125 8.5 55.328125 \r\nQ 8.5 64.0625 14.71875 69.140625 \r\nQ 20.953125 74.21875 31.78125 74.21875 \r\nQ 42.671875 74.21875 48.875 69.140625 \r\nQ 55.078125 64.0625 55.078125 55.328125 \r\nQ 55.078125 49.078125 51.53125 44.71875 \r\nQ 48 40.375 41.703125 38.8125 \r\nQ 48.828125 37.15625 52.796875 32.3125 \r\nQ 56.78125 27.484375 56.78125 20.515625 \r\nQ 56.78125 9.90625 50.3125 4.234375 \r\nQ 43.84375 -1.421875 31.78125 -1.421875 \r\nQ 19.734375 -1.421875 13.25 4.234375 \r\nQ 6.78125 9.90625 6.78125 20.515625 \r\nQ 6.78125 27.484375 10.78125 32.3125 \r\nQ 14.796875 37.15625 21.921875 38.8125 \r\nz\r\nM 18.3125 54.390625 \r\nQ 18.3125 48.734375 21.84375 45.5625 \r\nQ 25.390625 42.390625 31.78125 42.390625 \r\nQ 38.140625 42.390625 41.71875 45.5625 \r\nQ 45.3125 48.734375 45.3125 54.390625 \r\nQ 45.3125 60.0625 41.71875 63.234375 \r\nQ 38.140625 66.40625 31.78125 66.40625 \r\nQ 25.390625 66.40625 21.84375 63.234375 \r\nQ 18.3125 60.0625 18.3125 54.390625 \r\nz\r\n\" id=\"DejaVuSans-56\"/>\r\n       </defs>\r\n       <use xlink:href=\"#DejaVuSans-56\"/>\r\n      </g>\r\n     </g>\r\n    </g>\r\n    <g id=\"xtick_6\">\r\n     <g id=\"line2d_11\">\r\n      <path clip-path=\"url(#p00ce3c329c)\" d=\"M 331.562397 224.64 \r\nL 331.562397 7.2 \r\n\" style=\"fill:none;stroke:#b0b0b0;stroke-linecap:square;stroke-width:0.8;\"/>\r\n     </g>\r\n     <g id=\"line2d_12\">\r\n      <g>\r\n       <use style=\"stroke:#000000;stroke-width:0.8;\" x=\"331.562397\" xlink:href=\"#mce7951a1d5\" y=\"224.64\"/>\r\n      </g>\r\n     </g>\r\n     <g id=\"text_6\">\r\n      <!-- 10 -->\r\n      <g transform=\"translate(325.199897 239.238437)scale(0.1 -0.1)\">\r\n       <defs>\r\n        <path d=\"M 12.40625 8.296875 \r\nL 28.515625 8.296875 \r\nL 28.515625 63.921875 \r\nL 10.984375 60.40625 \r\nL 10.984375 69.390625 \r\nL 28.421875 72.90625 \r\nL 38.28125 72.90625 \r\nL 38.28125 8.296875 \r\nL 54.390625 8.296875 \r\nL 54.390625 0 \r\nL 12.40625 0 \r\nz\r\n\" id=\"DejaVuSans-49\"/>\r\n       </defs>\r\n       <use xlink:href=\"#DejaVuSans-49\"/>\r\n       <use x=\"63.623047\" xlink:href=\"#DejaVuSans-48\"/>\r\n      </g>\r\n     </g>\r\n    </g>\r\n   </g>\r\n   <g id=\"matplotlib.axis_2\">\r\n    <g id=\"ytick_1\">\r\n     <g id=\"line2d_13\">\r\n      <path clip-path=\"url(#p00ce3c329c)\" d=\"M 39.65 224.64 \r\nL 374.45 224.64 \r\n\" style=\"fill:none;stroke:#b0b0b0;stroke-linecap:square;stroke-width:0.8;\"/>\r\n     </g>\r\n     <g id=\"line2d_14\">\r\n      <defs>\r\n       <path d=\"M 0 0 \r\nL -3.5 0 \r\n\" id=\"mc0f709db02\" style=\"stroke:#000000;stroke-width:0.8;\"/>\r\n      </defs>\r\n      <g>\r\n       <use style=\"stroke:#000000;stroke-width:0.8;\" x=\"39.65\" xlink:href=\"#mc0f709db02\" y=\"224.64\"/>\r\n      </g>\r\n     </g>\r\n     <g id=\"text_7\">\r\n      <!-- 0 -->\r\n      <g transform=\"translate(26.2875 228.439219)scale(0.1 -0.1)\">\r\n       <use xlink:href=\"#DejaVuSans-48\"/>\r\n      </g>\r\n     </g>\r\n    </g>\r\n    <g id=\"ytick_2\">\r\n     <g id=\"line2d_15\">\r\n      <path clip-path=\"url(#p00ce3c329c)\" d=\"M 39.65 198.242841 \r\nL 374.45 198.242841 \r\n\" style=\"fill:none;stroke:#b0b0b0;stroke-linecap:square;stroke-width:0.8;\"/>\r\n     </g>\r\n     <g id=\"line2d_16\">\r\n      <g>\r\n       <use style=\"stroke:#000000;stroke-width:0.8;\" x=\"39.65\" xlink:href=\"#mc0f709db02\" y=\"198.242841\"/>\r\n      </g>\r\n     </g>\r\n     <g id=\"text_8\">\r\n      <!-- 200 -->\r\n      <g transform=\"translate(13.5625 202.04206)scale(0.1 -0.1)\">\r\n       <use xlink:href=\"#DejaVuSans-50\"/>\r\n       <use x=\"63.623047\" xlink:href=\"#DejaVuSans-48\"/>\r\n       <use x=\"127.246094\" xlink:href=\"#DejaVuSans-48\"/>\r\n      </g>\r\n     </g>\r\n    </g>\r\n    <g id=\"ytick_3\">\r\n     <g id=\"line2d_17\">\r\n      <path clip-path=\"url(#p00ce3c329c)\" d=\"M 39.65 171.845682 \r\nL 374.45 171.845682 \r\n\" style=\"fill:none;stroke:#b0b0b0;stroke-linecap:square;stroke-width:0.8;\"/>\r\n     </g>\r\n     <g id=\"line2d_18\">\r\n      <g>\r\n       <use style=\"stroke:#000000;stroke-width:0.8;\" x=\"39.65\" xlink:href=\"#mc0f709db02\" y=\"171.845682\"/>\r\n      </g>\r\n     </g>\r\n     <g id=\"text_9\">\r\n      <!-- 400 -->\r\n      <g transform=\"translate(13.5625 175.6449)scale(0.1 -0.1)\">\r\n       <use xlink:href=\"#DejaVuSans-52\"/>\r\n       <use x=\"63.623047\" xlink:href=\"#DejaVuSans-48\"/>\r\n       <use x=\"127.246094\" xlink:href=\"#DejaVuSans-48\"/>\r\n      </g>\r\n     </g>\r\n    </g>\r\n    <g id=\"ytick_4\">\r\n     <g id=\"line2d_19\">\r\n      <path clip-path=\"url(#p00ce3c329c)\" d=\"M 39.65 145.448522 \r\nL 374.45 145.448522 \r\n\" style=\"fill:none;stroke:#b0b0b0;stroke-linecap:square;stroke-width:0.8;\"/>\r\n     </g>\r\n     <g id=\"line2d_20\">\r\n      <g>\r\n       <use style=\"stroke:#000000;stroke-width:0.8;\" x=\"39.65\" xlink:href=\"#mc0f709db02\" y=\"145.448522\"/>\r\n      </g>\r\n     </g>\r\n     <g id=\"text_10\">\r\n      <!-- 600 -->\r\n      <g transform=\"translate(13.5625 149.247741)scale(0.1 -0.1)\">\r\n       <use xlink:href=\"#DejaVuSans-54\"/>\r\n       <use x=\"63.623047\" xlink:href=\"#DejaVuSans-48\"/>\r\n       <use x=\"127.246094\" xlink:href=\"#DejaVuSans-48\"/>\r\n      </g>\r\n     </g>\r\n    </g>\r\n    <g id=\"ytick_5\">\r\n     <g id=\"line2d_21\">\r\n      <path clip-path=\"url(#p00ce3c329c)\" d=\"M 39.65 119.051363 \r\nL 374.45 119.051363 \r\n\" style=\"fill:none;stroke:#b0b0b0;stroke-linecap:square;stroke-width:0.8;\"/>\r\n     </g>\r\n     <g id=\"line2d_22\">\r\n      <g>\r\n       <use style=\"stroke:#000000;stroke-width:0.8;\" x=\"39.65\" xlink:href=\"#mc0f709db02\" y=\"119.051363\"/>\r\n      </g>\r\n     </g>\r\n     <g id=\"text_11\">\r\n      <!-- 800 -->\r\n      <g transform=\"translate(13.5625 122.850582)scale(0.1 -0.1)\">\r\n       <use xlink:href=\"#DejaVuSans-56\"/>\r\n       <use x=\"63.623047\" xlink:href=\"#DejaVuSans-48\"/>\r\n       <use x=\"127.246094\" xlink:href=\"#DejaVuSans-48\"/>\r\n      </g>\r\n     </g>\r\n    </g>\r\n    <g id=\"ytick_6\">\r\n     <g id=\"line2d_23\">\r\n      <path clip-path=\"url(#p00ce3c329c)\" d=\"M 39.65 92.654204 \r\nL 374.45 92.654204 \r\n\" style=\"fill:none;stroke:#b0b0b0;stroke-linecap:square;stroke-width:0.8;\"/>\r\n     </g>\r\n     <g id=\"line2d_24\">\r\n      <g>\r\n       <use style=\"stroke:#000000;stroke-width:0.8;\" x=\"39.65\" xlink:href=\"#mc0f709db02\" y=\"92.654204\"/>\r\n      </g>\r\n     </g>\r\n     <g id=\"text_12\">\r\n      <!-- 1000 -->\r\n      <g transform=\"translate(7.2 96.453423)scale(0.1 -0.1)\">\r\n       <use xlink:href=\"#DejaVuSans-49\"/>\r\n       <use x=\"63.623047\" xlink:href=\"#DejaVuSans-48\"/>\r\n       <use x=\"127.246094\" xlink:href=\"#DejaVuSans-48\"/>\r\n       <use x=\"190.869141\" xlink:href=\"#DejaVuSans-48\"/>\r\n      </g>\r\n     </g>\r\n    </g>\r\n    <g id=\"ytick_7\">\r\n     <g id=\"line2d_25\">\r\n      <path clip-path=\"url(#p00ce3c329c)\" d=\"M 39.65 66.257045 \r\nL 374.45 66.257045 \r\n\" style=\"fill:none;stroke:#b0b0b0;stroke-linecap:square;stroke-width:0.8;\"/>\r\n     </g>\r\n     <g id=\"line2d_26\">\r\n      <g>\r\n       <use style=\"stroke:#000000;stroke-width:0.8;\" x=\"39.65\" xlink:href=\"#mc0f709db02\" y=\"66.257045\"/>\r\n      </g>\r\n     </g>\r\n     <g id=\"text_13\">\r\n      <!-- 1200 -->\r\n      <g transform=\"translate(7.2 70.056263)scale(0.1 -0.1)\">\r\n       <use xlink:href=\"#DejaVuSans-49\"/>\r\n       <use x=\"63.623047\" xlink:href=\"#DejaVuSans-50\"/>\r\n       <use x=\"127.246094\" xlink:href=\"#DejaVuSans-48\"/>\r\n       <use x=\"190.869141\" xlink:href=\"#DejaVuSans-48\"/>\r\n      </g>\r\n     </g>\r\n    </g>\r\n    <g id=\"ytick_8\">\r\n     <g id=\"line2d_27\">\r\n      <path clip-path=\"url(#p00ce3c329c)\" d=\"M 39.65 39.859885 \r\nL 374.45 39.859885 \r\n\" style=\"fill:none;stroke:#b0b0b0;stroke-linecap:square;stroke-width:0.8;\"/>\r\n     </g>\r\n     <g id=\"line2d_28\">\r\n      <g>\r\n       <use style=\"stroke:#000000;stroke-width:0.8;\" x=\"39.65\" xlink:href=\"#mc0f709db02\" y=\"39.859885\"/>\r\n      </g>\r\n     </g>\r\n     <g id=\"text_14\">\r\n      <!-- 1400 -->\r\n      <g transform=\"translate(7.2 43.659104)scale(0.1 -0.1)\">\r\n       <use xlink:href=\"#DejaVuSans-49\"/>\r\n       <use x=\"63.623047\" xlink:href=\"#DejaVuSans-52\"/>\r\n       <use x=\"127.246094\" xlink:href=\"#DejaVuSans-48\"/>\r\n       <use x=\"190.869141\" xlink:href=\"#DejaVuSans-48\"/>\r\n      </g>\r\n     </g>\r\n    </g>\r\n    <g id=\"ytick_9\">\r\n     <g id=\"line2d_29\">\r\n      <path clip-path=\"url(#p00ce3c329c)\" d=\"M 39.65 13.462726 \r\nL 374.45 13.462726 \r\n\" style=\"fill:none;stroke:#b0b0b0;stroke-linecap:square;stroke-width:0.8;\"/>\r\n     </g>\r\n     <g id=\"line2d_30\">\r\n      <g>\r\n       <use style=\"stroke:#000000;stroke-width:0.8;\" x=\"39.65\" xlink:href=\"#mc0f709db02\" y=\"13.462726\"/>\r\n      </g>\r\n     </g>\r\n     <g id=\"text_15\">\r\n      <!-- 1600 -->\r\n      <g transform=\"translate(7.2 17.261945)scale(0.1 -0.1)\">\r\n       <use xlink:href=\"#DejaVuSans-49\"/>\r\n       <use x=\"63.623047\" xlink:href=\"#DejaVuSans-54\"/>\r\n       <use x=\"127.246094\" xlink:href=\"#DejaVuSans-48\"/>\r\n       <use x=\"190.869141\" xlink:href=\"#DejaVuSans-48\"/>\r\n      </g>\r\n     </g>\r\n    </g>\r\n   </g>\r\n   <g id=\"patch_14\">\r\n    <path d=\"M 39.65 224.64 \r\nL 39.65 7.2 \r\n\" style=\"fill:none;stroke:#000000;stroke-linecap:square;stroke-linejoin:miter;stroke-width:0.8;\"/>\r\n   </g>\r\n   <g id=\"patch_15\">\r\n    <path d=\"M 374.45 224.64 \r\nL 374.45 7.2 \r\n\" style=\"fill:none;stroke:#000000;stroke-linecap:square;stroke-linejoin:miter;stroke-width:0.8;\"/>\r\n   </g>\r\n   <g id=\"patch_16\">\r\n    <path d=\"M 39.65 224.64 \r\nL 374.45 224.64 \r\n\" style=\"fill:none;stroke:#000000;stroke-linecap:square;stroke-linejoin:miter;stroke-width:0.8;\"/>\r\n   </g>\r\n   <g id=\"patch_17\">\r\n    <path d=\"M 39.65 7.2 \r\nL 374.45 7.2 \r\n\" style=\"fill:none;stroke:#000000;stroke-linecap:square;stroke-linejoin:miter;stroke-width:0.8;\"/>\r\n   </g>\r\n  </g>\r\n </g>\r\n <defs>\r\n  <clipPath id=\"p00ce3c329c\">\r\n   <rect height=\"217.44\" width=\"334.8\" x=\"39.65\" y=\"7.2\"/>\r\n  </clipPath>\r\n </defs>\r\n</svg>\r\n",
      "image/png": "[encoded data removed]"
     },
     "metadata": {
      "needs_background": "light"
     }
    }
   ],
   "source": [
    "sub_df.Pred.hist(range=(0,11), bins=11)"
   ]
  },
  {
   "cell_type": "code",
   "execution_count": 9,
   "metadata": {},
   "outputs": [],
   "source": [
    "sub_df.to_csv('../pred/{0}.csv'.format(name), index=None, header=None)"
   ]
  },
  {
   "cell_type": "code",
   "execution_count": null,
   "metadata": {},
   "outputs": [],
   "source": []
  }
 ]
}