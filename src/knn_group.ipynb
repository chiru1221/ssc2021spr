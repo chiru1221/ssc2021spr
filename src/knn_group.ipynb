{
 "metadata": {
  "language_info": {
   "codemirror_mode": {
    "name": "ipython",
    "version": 3
   },
   "file_extension": ".py",
   "mimetype": "text/x-python",
   "name": "python",
   "nbconvert_exporter": "python",
   "pygments_lexer": "ipython3",
   "version": "3.8.5"
  },
  "orig_nbformat": 2,
  "kernelspec": {
   "name": "python385jvsc74a57bd0f15a31bade87f703e513ad3072b10c6f06d3ccd96b6d16858f67eed0f22e28ac",
   "display_name": "Python 3.8.5 64-bit ('kaggle': conda)"
  }
 },
 "nbformat": 4,
 "nbformat_minor": 2,
 "cells": [
  {
   "cell_type": "code",
   "execution_count": 1,
   "metadata": {},
   "outputs": [],
   "source": [
    "import numpy as np\n",
    "import pandas as pd\n",
    "import matplotlib.pyplot as plt\n",
    "import lightgbm as lgb\n",
    "import optuna\n",
    "import  os\n",
    "from sklearn.metrics import f1_score\n",
    "from tqdm import tqdm\n",
    "from sklearn.model_selection import StratifiedKFold, LeaveOneOut\n",
    "from sklearn.neighbors import KNeighborsClassifier\n",
    "from sklearn.preprocessing import StandardScaler\n",
    "from utils import Optuna_for_LGB\n",
    "from preprocess import convert_notation, region_encoding, region_grouping\n",
    "PATH = '../data/'\n",
    "TRAIN = False"
   ]
  },
  {
   "cell_type": "code",
   "execution_count": 2,
   "metadata": {},
   "outputs": [
    {
     "output_type": "stream",
     "name": "stdout",
     "text": [
      "(4043, 87) (4046, 86)\n"
     ]
    },
    {
     "output_type": "execute_result",
     "data": {
      "text/plain": [
       "   index  genre  popularity  duration_ms  acousticness  positiveness  \\\n",
       "0      0     10          11       201094      0.112811      0.157247   \n",
       "1      1      8          69       308493      0.101333      0.346563   \n",
       "2      2      3          43       197225      0.496420      0.265391   \n",
       "3      3     10          45       301092      0.165667      0.245533   \n",
       "4      4      3          57       277348      0.190720      0.777578   \n",
       "\n",
       "   danceability  loudness    energy  liveness  ...  region_10  region_11  \\\n",
       "0      0.187841 -1.884852  0.893918  0.363568  ...          0          0   \n",
       "1      0.554444 -5.546495  0.874409  0.193892  ...          0          0   \n",
       "2      0.457642 -9.255670  0.439933  0.217146  ...          0          0   \n",
       "3      0.356578 -5.088788  0.868704  0.377025  ...          0          0   \n",
       "4      0.830479 -3.933896  0.650149  0.169323  ...          0          0   \n",
       "\n",
       "   region_12  region_13  region_14  region_15  region_16  region_17  \\\n",
       "0          0          0          0          0          0          0   \n",
       "1          0          0          0          0          0          0   \n",
       "2          0          0          0          0          0          0   \n",
       "3          0          0          0          0          0          0   \n",
       "4          0          0          0          0          0          0   \n",
       "\n",
       "   region_18  region_19  \n",
       "0          0          0  \n",
       "1          0          0  \n",
       "2          0          0  \n",
       "3          0          0  \n",
       "4          0          1  \n",
       "\n",
       "[5 rows x 87 columns]"
      ],
      "text/html": "<div>\n<style scoped>\n    .dataframe tbody tr th:only-of-type {\n        vertical-align: middle;\n    }\n\n    .dataframe tbody tr th {\n        vertical-align: top;\n    }\n\n    .dataframe thead th {\n        text-align: right;\n    }\n</style>\n<table border=\"1\" class=\"dataframe\">\n  <thead>\n    <tr style=\"text-align: right;\">\n      <th></th>\n      <th>index</th>\n      <th>genre</th>\n      <th>popularity</th>\n      <th>duration_ms</th>\n      <th>acousticness</th>\n      <th>positiveness</th>\n      <th>danceability</th>\n      <th>loudness</th>\n      <th>energy</th>\n      <th>liveness</th>\n      <th>...</th>\n      <th>region_10</th>\n      <th>region_11</th>\n      <th>region_12</th>\n      <th>region_13</th>\n      <th>region_14</th>\n      <th>region_15</th>\n      <th>region_16</th>\n      <th>region_17</th>\n      <th>region_18</th>\n      <th>region_19</th>\n    </tr>\n  </thead>\n  <tbody>\n    <tr>\n      <th>0</th>\n      <td>0</td>\n      <td>10</td>\n      <td>11</td>\n      <td>201094</td>\n      <td>0.112811</td>\n      <td>0.157247</td>\n      <td>0.187841</td>\n      <td>-1.884852</td>\n      <td>0.893918</td>\n      <td>0.363568</td>\n      <td>...</td>\n      <td>0</td>\n      <td>0</td>\n      <td>0</td>\n      <td>0</td>\n      <td>0</td>\n      <td>0</td>\n      <td>0</td>\n      <td>0</td>\n      <td>0</td>\n      <td>0</td>\n    </tr>\n    <tr>\n      <th>1</th>\n      <td>1</td>\n      <td>8</td>\n      <td>69</td>\n      <td>308493</td>\n      <td>0.101333</td>\n      <td>0.346563</td>\n      <td>0.554444</td>\n      <td>-5.546495</td>\n      <td>0.874409</td>\n      <td>0.193892</td>\n      <td>...</td>\n      <td>0</td>\n      <td>0</td>\n      <td>0</td>\n      <td>0</td>\n      <td>0</td>\n      <td>0</td>\n      <td>0</td>\n      <td>0</td>\n      <td>0</td>\n      <td>0</td>\n    </tr>\n    <tr>\n      <th>2</th>\n      <td>2</td>\n      <td>3</td>\n      <td>43</td>\n      <td>197225</td>\n      <td>0.496420</td>\n      <td>0.265391</td>\n      <td>0.457642</td>\n      <td>-9.255670</td>\n      <td>0.439933</td>\n      <td>0.217146</td>\n      <td>...</td>\n      <td>0</td>\n      <td>0</td>\n      <td>0</td>\n      <td>0</td>\n      <td>0</td>\n      <td>0</td>\n      <td>0</td>\n      <td>0</td>\n      <td>0</td>\n      <td>0</td>\n    </tr>\n    <tr>\n      <th>3</th>\n      <td>3</td>\n      <td>10</td>\n      <td>45</td>\n      <td>301092</td>\n      <td>0.165667</td>\n      <td>0.245533</td>\n      <td>0.356578</td>\n      <td>-5.088788</td>\n      <td>0.868704</td>\n      <td>0.377025</td>\n      <td>...</td>\n      <td>0</td>\n      <td>0</td>\n      <td>0</td>\n      <td>0</td>\n      <td>0</td>\n      <td>0</td>\n      <td>0</td>\n      <td>0</td>\n      <td>0</td>\n      <td>0</td>\n    </tr>\n    <tr>\n      <th>4</th>\n      <td>4</td>\n      <td>3</td>\n      <td>57</td>\n      <td>277348</td>\n      <td>0.190720</td>\n      <td>0.777578</td>\n      <td>0.830479</td>\n      <td>-3.933896</td>\n      <td>0.650149</td>\n      <td>0.169323</td>\n      <td>...</td>\n      <td>0</td>\n      <td>0</td>\n      <td>0</td>\n      <td>0</td>\n      <td>0</td>\n      <td>0</td>\n      <td>0</td>\n      <td>0</td>\n      <td>0</td>\n      <td>1</td>\n    </tr>\n  </tbody>\n</table>\n<p>5 rows × 87 columns</p>\n</div>"
     },
     "metadata": {},
     "execution_count": 2
    }
   ],
   "source": [
    "train_df = pd.read_csv(PATH + 'train.csv')\n",
    "test_df = pd.read_csv(PATH + 'test.csv')\n",
    "train_df = convert_notation(train_df)\n",
    "test_df = convert_notation(test_df)\n",
    "train_df, test_df, le = region_encoding(train_df, test_df)\n",
    "columns = list(test_df.columns)\n",
    "columns.remove('index')\n",
    "columns.remove('region')\n",
    "train_df, test_df = region_grouping(train_df, test_df, columns, diff=True)\n",
    "train_df, test_df = pd.get_dummies(train_df, columns=['region']), pd.get_dummies(test_df, columns=['region'])\n",
    "all_df = pd.concat([train_df[test_df.columns], test_df])\n",
    "all_df = all_df.reset_index(drop=True)\n",
    "na_col = all_df.columns[all_df.isna().sum() > 0]\n",
    "for col in na_col:\n",
    "    all_df[col] = all_df[col].fillna(all_df[col].median())\n",
    "train_df[test_df.columns] = all_df.iloc[:train_df.shape[0]]\n",
    "test_df = all_df.iloc[train_df.shape[0]:]\n",
    "train_df = train_df.reset_index(drop=True)\n",
    "test_df = test_df.reset_index(drop=True)\n",
    "print(train_df.shape, test_df.shape)\n",
    "train_df.head()"
   ]
  },
  {
   "cell_type": "code",
   "execution_count": 3,
   "metadata": {},
   "outputs": [
    {
     "output_type": "execute_result",
     "data": {
      "text/plain": [
       "(Index(['index', 'genre', 'popularity', 'duration_ms', 'acousticness',\n",
       "        'positiveness', 'danceability', 'loudness', 'energy', 'liveness',\n",
       "        'speechiness', 'instrumentalness', 'tempo', 'tempo_min', 'tempo_max',\n",
       "        'popularity_mean', 'popularity_std', 'duration_ms_mean',\n",
       "        'duration_ms_std', 'acousticness_mean', 'acousticness_std',\n",
       "        'positiveness_mean', 'positiveness_std', 'danceability_mean',\n",
       "        'danceability_std', 'loudness_mean', 'loudness_std', 'energy_mean',\n",
       "        'energy_std', 'liveness_mean', 'liveness_std', 'speechiness_mean',\n",
       "        'speechiness_std', 'instrumentalness_mean', 'instrumentalness_std',\n",
       "        'tempo_mean', 'tempo_std', 'tempo_min_mean', 'tempo_min_std',\n",
       "        'tempo_max_mean', 'tempo_max_std', 'popularity_region_mean_diff',\n",
       "        'popularity_region_mean_diff_region_std_diff',\n",
       "        'duration_ms_region_mean_diff',\n",
       "        'duration_ms_region_mean_diff_region_std_diff',\n",
       "        'acousticness_region_mean_diff',\n",
       "        'acousticness_region_mean_diff_region_std_diff',\n",
       "        'positiveness_region_mean_diff',\n",
       "        'positiveness_region_mean_diff_region_std_diff',\n",
       "        'danceability_region_mean_diff',\n",
       "        'danceability_region_mean_diff_region_std_diff',\n",
       "        'loudness_region_mean_diff',\n",
       "        'loudness_region_mean_diff_region_std_diff', 'energy_region_mean_diff',\n",
       "        'energy_region_mean_diff_region_std_diff', 'liveness_region_mean_diff',\n",
       "        'liveness_region_mean_diff_region_std_diff',\n",
       "        'speechiness_region_mean_diff',\n",
       "        'speechiness_region_mean_diff_region_std_diff',\n",
       "        'instrumentalness_region_mean_diff',\n",
       "        'instrumentalness_region_mean_diff_region_std_diff',\n",
       "        'tempo_region_mean_diff', 'tempo_region_mean_diff_region_std_diff',\n",
       "        'tempo_min_region_mean_diff',\n",
       "        'tempo_min_region_mean_diff_region_std_diff',\n",
       "        'tempo_max_region_mean_diff',\n",
       "        'tempo_max_region_mean_diff_region_std_diff', 'region_0', 'region_1',\n",
       "        'region_2', 'region_3', 'region_4', 'region_5', 'region_6', 'region_7',\n",
       "        'region_8', 'region_9', 'region_10', 'region_11', 'region_12',\n",
       "        'region_13', 'region_14', 'region_15', 'region_16', 'region_17',\n",
       "        'region_18', 'region_19'],\n",
       "       dtype='object'),\n",
       " Index(['index', 'popularity', 'duration_ms', 'acousticness', 'positiveness',\n",
       "        'danceability', 'loudness', 'energy', 'liveness', 'speechiness',\n",
       "        'instrumentalness', 'tempo', 'tempo_min', 'tempo_max',\n",
       "        'popularity_mean', 'popularity_std', 'duration_ms_mean',\n",
       "        'duration_ms_std', 'acousticness_mean', 'acousticness_std',\n",
       "        'positiveness_mean', 'positiveness_std', 'danceability_mean',\n",
       "        'danceability_std', 'loudness_mean', 'loudness_std', 'energy_mean',\n",
       "        'energy_std', 'liveness_mean', 'liveness_std', 'speechiness_mean',\n",
       "        'speechiness_std', 'instrumentalness_mean', 'instrumentalness_std',\n",
       "        'tempo_mean', 'tempo_std', 'tempo_min_mean', 'tempo_min_std',\n",
       "        'tempo_max_mean', 'tempo_max_std', 'popularity_region_mean_diff',\n",
       "        'popularity_region_mean_diff_region_std_diff',\n",
       "        'duration_ms_region_mean_diff',\n",
       "        'duration_ms_region_mean_diff_region_std_diff',\n",
       "        'acousticness_region_mean_diff',\n",
       "        'acousticness_region_mean_diff_region_std_diff',\n",
       "        'positiveness_region_mean_diff',\n",
       "        'positiveness_region_mean_diff_region_std_diff',\n",
       "        'danceability_region_mean_diff',\n",
       "        'danceability_region_mean_diff_region_std_diff',\n",
       "        'loudness_region_mean_diff',\n",
       "        'loudness_region_mean_diff_region_std_diff', 'energy_region_mean_diff',\n",
       "        'energy_region_mean_diff_region_std_diff', 'liveness_region_mean_diff',\n",
       "        'liveness_region_mean_diff_region_std_diff',\n",
       "        'speechiness_region_mean_diff',\n",
       "        'speechiness_region_mean_diff_region_std_diff',\n",
       "        'instrumentalness_region_mean_diff',\n",
       "        'instrumentalness_region_mean_diff_region_std_diff',\n",
       "        'tempo_region_mean_diff', 'tempo_region_mean_diff_region_std_diff',\n",
       "        'tempo_min_region_mean_diff',\n",
       "        'tempo_min_region_mean_diff_region_std_diff',\n",
       "        'tempo_max_region_mean_diff',\n",
       "        'tempo_max_region_mean_diff_region_std_diff', 'region_0', 'region_1',\n",
       "        'region_2', 'region_3', 'region_4', 'region_5', 'region_6', 'region_7',\n",
       "        'region_8', 'region_9', 'region_10', 'region_11', 'region_12',\n",
       "        'region_13', 'region_14', 'region_15', 'region_16', 'region_17',\n",
       "        'region_18', 'region_19'],\n",
       "       dtype='object'))"
      ]
     },
     "metadata": {},
     "execution_count": 3
    }
   ],
   "source": [
    "train_df.columns, test_df.columns"
   ]
  },
  {
   "cell_type": "code",
   "execution_count": 5,
   "metadata": {
    "tags": []
   },
   "outputs": [],
   "source": [
    "%%capture\n",
    "columns = list(test_df.columns)\n",
    "columns.remove('index')\n",
    "ss_columns = columns.copy()\n",
    "[ss_columns.remove('region_{0}'.format(i)) for i in np.arange(20)]\n",
    "region_col = ['region_{0}'.format(i) for i in np.arange(20)]\n",
    "kf = LeaveOneOut()\n",
    "name = 'knn_group'\n",
    "x, y = train_df[columns], train_df.genre\n",
    "score = list()\n",
    "n_neighbors = 1\n",
    "metric = 'euclidean'\n",
    "if TRAIN:\n",
    "    for cv, (train_idx, test_idx) in enumerate(kf.split(x)):\n",
    "        x_train, x_test = x.iloc[train_idx], x.iloc[test_idx]\n",
    "        y_train, y_test = y.iloc[train_idx], y.iloc[test_idx]\n",
    "\n",
    "        ss = StandardScaler()\n",
    "        x_train[ss_columns] = ss.fit_transform(x_train[ss_columns])\n",
    "        x_test[ss_columns] = ss.transform(x_test[ss_columns])\n",
    "\n",
    "        x_train[region_col] /= 100.0\n",
    "        x_test[region_col] /= 100.0\n",
    "\n",
    "        knn = KNeighborsClassifier(n_neighbors=n_neighbors, n_jobs=-1, metric=metric)\n",
    "        knn.fit(x_train, y_train)\n",
    "        pd.to_pickle(knn, '../model/leave_one_out/{0}_{1}_{2}/knn_{3}.pkl'.format(name, metric, n_neighbors, cv))\n",
    "        pd.to_pickle(ss, '../model/leave_one_out/{0}_{1}_{2}/ss_{3}.pkl'.format(name, metric, n_neighbors, cv))\n",
    "        score.append(f1_score(knn.predict(x_test), y_test, average='macro'))"
   ]
  },
  {
   "cell_type": "code",
   "execution_count": 5,
   "metadata": {},
   "outputs": [
    {
     "output_type": "execute_result",
     "data": {
      "text/plain": [
       "(0.5716052436309671, 0.4948461266742924)"
      ]
     },
     "metadata": {},
     "execution_count": 5
    }
   ],
   "source": [
    "np.mean(score), np.std(score)"
   ]
  },
  {
   "cell_type": "code",
   "execution_count": 7,
   "metadata": {},
   "outputs": [],
   "source": [
    "%%capture\n",
    "sub_df = pd.read_csv(PATH + 'sample_submit.csv', header=None, names=['ID', 'Pred'])\n",
    "prediction = np.zeros((test_df.shape[0], 11), dtype=np.float64)\n",
    "for i in range(train_df.shape[0]):\n",
    "    x = test_df[columns].copy()\n",
    "    model = pd.read_pickle('../model/leave_one_out/{0}_{1}_{2}/knn_{3}.pkl'.format(name, metric, n_neighbors, i))\n",
    "    ss = pd.read_pickle('../model/leave_one_out/{0}_{1}_{2}/ss_{3}.pkl'.format(name, metric, n_neighbors, i))\n",
    "    x[ss_columns] = ss.transform(x[ss_columns])\n",
    "    x[region_col] /= 100.0\n",
    "    pred = model.predict_proba(x).astype(np.float64)\n",
    "    prediction += pred\n",
    "prediction /= train_df.shape[0]\n",
    "sub_df.Pred = np.argmax(prediction, axis=1)\n",
    "sub_df.head()"
   ]
  },
  {
   "cell_type": "code",
   "execution_count": 8,
   "metadata": {},
   "outputs": [
    {
     "output_type": "execute_result",
     "data": {
      "text/plain": [
       "<AxesSubplot:>"
      ]
     },
     "metadata": {},
     "execution_count": 8
    },
    {
     "output_type": "display_data",
     "data": {
      "text/plain": "<Figure size 432x288 with 1 Axes>",
      "image/svg+xml": "<?xml version=\"1.0\" encoding=\"utf-8\" standalone=\"no\"?>\r\n<!DOCTYPE svg PUBLIC \"-//W3C//DTD SVG 1.1//EN\"\r\n  \"http://www.w3.org/Graphics/SVG/1.1/DTD/svg11.dtd\">\r\n<!-- Created with matplotlib (https://matplotlib.org/) -->\r\n<svg height=\"248.518125pt\" version=\"1.1\" viewBox=\"0 0 381.65 248.518125\" width=\"381.65pt\" xmlns=\"http://www.w3.org/2000/svg\" xmlns:xlink=\"http://www.w3.org/1999/xlink\">\r\n <metadata>\r\n  <rdf:RDF xmlns:cc=\"http://creativecommons.org/ns#\" xmlns:dc=\"http://purl.org/dc/elements/1.1/\" xmlns:rdf=\"http://www.w3.org/1999/02/22-rdf-syntax-ns#\">\r\n   <cc:Work>\r\n    <dc:type rdf:resource=\"http://purl.org/dc/dcmitype/StillImage\"/>\r\n    <dc:date>2021-04-23T01:57:04.092587</dc:date>\r\n    <dc:format>image/svg+xml</dc:format>\r\n    <dc:creator>\r\n     <cc:Agent>\r\n      <dc:title>Matplotlib v3.3.2, https://matplotlib.org/</dc:title>\r\n     </cc:Agent>\r\n    </dc:creator>\r\n   </cc:Work>\r\n  </rdf:RDF>\r\n </metadata>\r\n <defs>\r\n  <style type=\"text/css\">*{stroke-linecap:butt;stroke-linejoin:round;}</style>\r\n </defs>\r\n <g id=\"figure_1\">\r\n  <g id=\"patch_1\">\r\n   <path d=\"M -0 248.518125 \r\nL 381.65 248.518125 \r\nL 381.65 0 \r\nL -0 0 \r\nz\r\n\" style=\"fill:none;\"/>\r\n  </g>\r\n  <g id=\"axes_1\">\r\n   <g id=\"patch_2\">\r\n    <path d=\"M 39.65 224.64 \r\nL 374.45 224.64 \r\nL 374.45 7.2 \r\nL 39.65 7.2 \r\nz\r\n\" style=\"fill:#ffffff;\"/>\r\n   </g>\r\n   <g id=\"patch_3\">\r\n    <path clip-path=\"url(#p33cc91af97)\" d=\"M 54.868182 224.64 \r\nL 82.537603 224.64 \r\nL 82.537603 220.501242 \r\nL 54.868182 220.501242 \r\nz\r\n\" style=\"fill:#1f77b4;\"/>\r\n   </g>\r\n   <g id=\"patch_4\">\r\n    <path clip-path=\"url(#p33cc91af97)\" d=\"M 82.537603 224.64 \r\nL 110.207025 224.64 \r\nL 110.207025 198.477137 \r\nL 82.537603 198.477137 \r\nz\r\n\" style=\"fill:#1f77b4;\"/>\r\n   </g>\r\n   <g id=\"patch_5\">\r\n    <path clip-path=\"url(#p33cc91af97)\" d=\"M 110.207025 224.64 \r\nL 137.876446 224.64 \r\nL 137.876446 198.62495 \r\nL 110.207025 198.62495 \r\nz\r\n\" style=\"fill:#1f77b4;\"/>\r\n   </g>\r\n   <g id=\"patch_6\">\r\n    <path clip-path=\"url(#p33cc91af97)\" d=\"M 137.876446 224.64 \r\nL 165.545868 224.64 \r\nL 165.545868 171.870835 \r\nL 137.876446 171.870835 \r\nz\r\n\" style=\"fill:#1f77b4;\"/>\r\n   </g>\r\n   <g id=\"patch_7\">\r\n    <path clip-path=\"url(#p33cc91af97)\" d=\"M 165.545868 224.64 \r\nL 193.215289 224.64 \r\nL 193.215289 219.170927 \r\nL 165.545868 219.170927 \r\nz\r\n\" style=\"fill:#1f77b4;\"/>\r\n   </g>\r\n   <g id=\"patch_8\">\r\n    <path clip-path=\"url(#p33cc91af97)\" d=\"M 193.215289 224.64 \r\nL 220.884711 224.64 \r\nL 220.884711 206.459027 \r\nL 193.215289 206.459027 \r\nz\r\n\" style=\"fill:#1f77b4;\"/>\r\n   </g>\r\n   <g id=\"patch_9\">\r\n    <path clip-path=\"url(#p33cc91af97)\" d=\"M 220.884711 224.64 \r\nL 248.554132 224.64 \r\nL 248.554132 216.953735 \r\nL 220.884711 216.953735 \r\nz\r\n\" style=\"fill:#1f77b4;\"/>\r\n   </g>\r\n   <g id=\"patch_10\">\r\n    <path clip-path=\"url(#p33cc91af97)\" d=\"M 248.554132 224.64 \r\nL 276.223554 224.64 \r\nL 276.223554 175.270529 \r\nL 248.554132 175.270529 \r\nz\r\n\" style=\"fill:#1f77b4;\"/>\r\n   </g>\r\n   <g id=\"patch_11\">\r\n    <path clip-path=\"url(#p33cc91af97)\" d=\"M 276.223554 224.64 \r\nL 303.892975 224.64 \r\nL 303.892975 17.554286 \r\nL 276.223554 17.554286 \r\nz\r\n\" style=\"fill:#1f77b4;\"/>\r\n   </g>\r\n   <g id=\"patch_12\">\r\n    <path clip-path=\"url(#p33cc91af97)\" d=\"M 303.892975 224.64 \r\nL 331.562397 224.64 \r\nL 331.562397 218.136237 \r\nL 303.892975 218.136237 \r\nz\r\n\" style=\"fill:#1f77b4;\"/>\r\n   </g>\r\n   <g id=\"patch_13\">\r\n    <path clip-path=\"url(#p33cc91af97)\" d=\"M 331.562397 224.64 \r\nL 359.231818 224.64 \r\nL 359.231818 29.97056 \r\nL 331.562397 29.97056 \r\nz\r\n\" style=\"fill:#1f77b4;\"/>\r\n   </g>\r\n   <g id=\"matplotlib.axis_1\">\r\n    <g id=\"xtick_1\">\r\n     <g id=\"line2d_1\">\r\n      <path clip-path=\"url(#p33cc91af97)\" d=\"M 54.868182 224.64 \r\nL 54.868182 7.2 \r\n\" style=\"fill:none;stroke:#b0b0b0;stroke-linecap:square;stroke-width:0.8;\"/>\r\n     </g>\r\n     <g id=\"line2d_2\">\r\n      <defs>\r\n       <path d=\"M 0 0 \r\nL 0 3.5 \r\n\" id=\"ma90841f9fb\" style=\"stroke:#000000;stroke-width:0.8;\"/>\r\n      </defs>\r\n      <g>\r\n       <use style=\"stroke:#000000;stroke-width:0.8;\" x=\"54.868182\" xlink:href=\"#ma90841f9fb\" y=\"224.64\"/>\r\n      </g>\r\n     </g>\r\n     <g id=\"text_1\">\r\n      <!-- 0 -->\r\n      <g transform=\"translate(51.686932 239.238437)scale(0.1 -0.1)\">\r\n       <defs>\r\n        <path d=\"M 31.78125 66.40625 \r\nQ 24.171875 66.40625 20.328125 58.90625 \r\nQ 16.5 51.421875 16.5 36.375 \r\nQ 16.5 21.390625 20.328125 13.890625 \r\nQ 24.171875 6.390625 31.78125 6.390625 \r\nQ 39.453125 6.390625 43.28125 13.890625 \r\nQ 47.125 21.390625 47.125 36.375 \r\nQ 47.125 51.421875 43.28125 58.90625 \r\nQ 39.453125 66.40625 31.78125 66.40625 \r\nz\r\nM 31.78125 74.21875 \r\nQ 44.046875 74.21875 50.515625 64.515625 \r\nQ 56.984375 54.828125 56.984375 36.375 \r\nQ 56.984375 17.96875 50.515625 8.265625 \r\nQ 44.046875 -1.421875 31.78125 -1.421875 \r\nQ 19.53125 -1.421875 13.0625 8.265625 \r\nQ 6.59375 17.96875 6.59375 36.375 \r\nQ 6.59375 54.828125 13.0625 64.515625 \r\nQ 19.53125 74.21875 31.78125 74.21875 \r\nz\r\n\" id=\"DejaVuSans-48\"/>\r\n       </defs>\r\n       <use xlink:href=\"#DejaVuSans-48\"/>\r\n      </g>\r\n     </g>\r\n    </g>\r\n    <g id=\"xtick_2\">\r\n     <g id=\"line2d_3\">\r\n      <path clip-path=\"url(#p33cc91af97)\" d=\"M 110.207025 224.64 \r\nL 110.207025 7.2 \r\n\" style=\"fill:none;stroke:#b0b0b0;stroke-linecap:square;stroke-width:0.8;\"/>\r\n     </g>\r\n     <g id=\"line2d_4\">\r\n      <g>\r\n       <use style=\"stroke:#000000;stroke-width:0.8;\" x=\"110.207025\" xlink:href=\"#ma90841f9fb\" y=\"224.64\"/>\r\n      </g>\r\n     </g>\r\n     <g id=\"text_2\">\r\n      <!-- 2 -->\r\n      <g transform=\"translate(107.025775 239.238437)scale(0.1 -0.1)\">\r\n       <defs>\r\n        <path d=\"M 19.1875 8.296875 \r\nL 53.609375 8.296875 \r\nL 53.609375 0 \r\nL 7.328125 0 \r\nL 7.328125 8.296875 \r\nQ 12.9375 14.109375 22.625 23.890625 \r\nQ 32.328125 33.6875 34.8125 36.53125 \r\nQ 39.546875 41.84375 41.421875 45.53125 \r\nQ 43.3125 49.21875 43.3125 52.78125 \r\nQ 43.3125 58.59375 39.234375 62.25 \r\nQ 35.15625 65.921875 28.609375 65.921875 \r\nQ 23.96875 65.921875 18.8125 64.3125 \r\nQ 13.671875 62.703125 7.8125 59.421875 \r\nL 7.8125 69.390625 \r\nQ 13.765625 71.78125 18.9375 73 \r\nQ 24.125 74.21875 28.421875 74.21875 \r\nQ 39.75 74.21875 46.484375 68.546875 \r\nQ 53.21875 62.890625 53.21875 53.421875 \r\nQ 53.21875 48.921875 51.53125 44.890625 \r\nQ 49.859375 40.875 45.40625 35.40625 \r\nQ 44.1875 33.984375 37.640625 27.21875 \r\nQ 31.109375 20.453125 19.1875 8.296875 \r\nz\r\n\" id=\"DejaVuSans-50\"/>\r\n       </defs>\r\n       <use xlink:href=\"#DejaVuSans-50\"/>\r\n      </g>\r\n     </g>\r\n    </g>\r\n    <g id=\"xtick_3\">\r\n     <g id=\"line2d_5\">\r\n      <path clip-path=\"url(#p33cc91af97)\" d=\"M 165.545868 224.64 \r\nL 165.545868 7.2 \r\n\" style=\"fill:none;stroke:#b0b0b0;stroke-linecap:square;stroke-width:0.8;\"/>\r\n     </g>\r\n     <g id=\"line2d_6\">\r\n      <g>\r\n       <use style=\"stroke:#000000;stroke-width:0.8;\" x=\"165.545868\" xlink:href=\"#ma90841f9fb\" y=\"224.64\"/>\r\n      </g>\r\n     </g>\r\n     <g id=\"text_3\">\r\n      <!-- 4 -->\r\n      <g transform=\"translate(162.364618 239.238437)scale(0.1 -0.1)\">\r\n       <defs>\r\n        <path d=\"M 37.796875 64.3125 \r\nL 12.890625 25.390625 \r\nL 37.796875 25.390625 \r\nz\r\nM 35.203125 72.90625 \r\nL 47.609375 72.90625 \r\nL 47.609375 25.390625 \r\nL 58.015625 25.390625 \r\nL 58.015625 17.1875 \r\nL 47.609375 17.1875 \r\nL 47.609375 0 \r\nL 37.796875 0 \r\nL 37.796875 17.1875 \r\nL 4.890625 17.1875 \r\nL 4.890625 26.703125 \r\nz\r\n\" id=\"DejaVuSans-52\"/>\r\n       </defs>\r\n       <use xlink:href=\"#DejaVuSans-52\"/>\r\n      </g>\r\n     </g>\r\n    </g>\r\n    <g id=\"xtick_4\">\r\n     <g id=\"line2d_7\">\r\n      <path clip-path=\"url(#p33cc91af97)\" d=\"M 220.884711 224.64 \r\nL 220.884711 7.2 \r\n\" style=\"fill:none;stroke:#b0b0b0;stroke-linecap:square;stroke-width:0.8;\"/>\r\n     </g>\r\n     <g id=\"line2d_8\">\r\n      <g>\r\n       <use style=\"stroke:#000000;stroke-width:0.8;\" x=\"220.884711\" xlink:href=\"#ma90841f9fb\" y=\"224.64\"/>\r\n      </g>\r\n     </g>\r\n     <g id=\"text_4\">\r\n      <!-- 6 -->\r\n      <g transform=\"translate(217.703461 239.238437)scale(0.1 -0.1)\">\r\n       <defs>\r\n        <path d=\"M 33.015625 40.375 \r\nQ 26.375 40.375 22.484375 35.828125 \r\nQ 18.609375 31.296875 18.609375 23.390625 \r\nQ 18.609375 15.53125 22.484375 10.953125 \r\nQ 26.375 6.390625 33.015625 6.390625 \r\nQ 39.65625 6.390625 43.53125 10.953125 \r\nQ 47.40625 15.53125 47.40625 23.390625 \r\nQ 47.40625 31.296875 43.53125 35.828125 \r\nQ 39.65625 40.375 33.015625 40.375 \r\nz\r\nM 52.59375 71.296875 \r\nL 52.59375 62.3125 \r\nQ 48.875 64.0625 45.09375 64.984375 \r\nQ 41.3125 65.921875 37.59375 65.921875 \r\nQ 27.828125 65.921875 22.671875 59.328125 \r\nQ 17.53125 52.734375 16.796875 39.40625 \r\nQ 19.671875 43.65625 24.015625 45.921875 \r\nQ 28.375 48.1875 33.59375 48.1875 \r\nQ 44.578125 48.1875 50.953125 41.515625 \r\nQ 57.328125 34.859375 57.328125 23.390625 \r\nQ 57.328125 12.15625 50.6875 5.359375 \r\nQ 44.046875 -1.421875 33.015625 -1.421875 \r\nQ 20.359375 -1.421875 13.671875 8.265625 \r\nQ 6.984375 17.96875 6.984375 36.375 \r\nQ 6.984375 53.65625 15.1875 63.9375 \r\nQ 23.390625 74.21875 37.203125 74.21875 \r\nQ 40.921875 74.21875 44.703125 73.484375 \r\nQ 48.484375 72.75 52.59375 71.296875 \r\nz\r\n\" id=\"DejaVuSans-54\"/>\r\n       </defs>\r\n       <use xlink:href=\"#DejaVuSans-54\"/>\r\n      </g>\r\n     </g>\r\n    </g>\r\n    <g id=\"xtick_5\">\r\n     <g id=\"line2d_9\">\r\n      <path clip-path=\"url(#p33cc91af97)\" d=\"M 276.223554 224.64 \r\nL 276.223554 7.2 \r\n\" style=\"fill:none;stroke:#b0b0b0;stroke-linecap:square;stroke-width:0.8;\"/>\r\n     </g>\r\n     <g id=\"line2d_10\">\r\n      <g>\r\n       <use style=\"stroke:#000000;stroke-width:0.8;\" x=\"276.223554\" xlink:href=\"#ma90841f9fb\" y=\"224.64\"/>\r\n      </g>\r\n     </g>\r\n     <g id=\"text_5\">\r\n      <!-- 8 -->\r\n      <g transform=\"translate(273.042304 239.238437)scale(0.1 -0.1)\">\r\n       <defs>\r\n        <path d=\"M 31.78125 34.625 \r\nQ 24.75 34.625 20.71875 30.859375 \r\nQ 16.703125 27.09375 16.703125 20.515625 \r\nQ 16.703125 13.921875 20.71875 10.15625 \r\nQ 24.75 6.390625 31.78125 6.390625 \r\nQ 38.8125 6.390625 42.859375 10.171875 \r\nQ 46.921875 13.96875 46.921875 20.515625 \r\nQ 46.921875 27.09375 42.890625 30.859375 \r\nQ 38.875 34.625 31.78125 34.625 \r\nz\r\nM 21.921875 38.8125 \r\nQ 15.578125 40.375 12.03125 44.71875 \r\nQ 8.5 49.078125 8.5 55.328125 \r\nQ 8.5 64.0625 14.71875 69.140625 \r\nQ 20.953125 74.21875 31.78125 74.21875 \r\nQ 42.671875 74.21875 48.875 69.140625 \r\nQ 55.078125 64.0625 55.078125 55.328125 \r\nQ 55.078125 49.078125 51.53125 44.71875 \r\nQ 48 40.375 41.703125 38.8125 \r\nQ 48.828125 37.15625 52.796875 32.3125 \r\nQ 56.78125 27.484375 56.78125 20.515625 \r\nQ 56.78125 9.90625 50.3125 4.234375 \r\nQ 43.84375 -1.421875 31.78125 -1.421875 \r\nQ 19.734375 -1.421875 13.25 4.234375 \r\nQ 6.78125 9.90625 6.78125 20.515625 \r\nQ 6.78125 27.484375 10.78125 32.3125 \r\nQ 14.796875 37.15625 21.921875 38.8125 \r\nz\r\nM 18.3125 54.390625 \r\nQ 18.3125 48.734375 21.84375 45.5625 \r\nQ 25.390625 42.390625 31.78125 42.390625 \r\nQ 38.140625 42.390625 41.71875 45.5625 \r\nQ 45.3125 48.734375 45.3125 54.390625 \r\nQ 45.3125 60.0625 41.71875 63.234375 \r\nQ 38.140625 66.40625 31.78125 66.40625 \r\nQ 25.390625 66.40625 21.84375 63.234375 \r\nQ 18.3125 60.0625 18.3125 54.390625 \r\nz\r\n\" id=\"DejaVuSans-56\"/>\r\n       </defs>\r\n       <use xlink:href=\"#DejaVuSans-56\"/>\r\n      </g>\r\n     </g>\r\n    </g>\r\n    <g id=\"xtick_6\">\r\n     <g id=\"line2d_11\">\r\n      <path clip-path=\"url(#p33cc91af97)\" d=\"M 331.562397 224.64 \r\nL 331.562397 7.2 \r\n\" style=\"fill:none;stroke:#b0b0b0;stroke-linecap:square;stroke-width:0.8;\"/>\r\n     </g>\r\n     <g id=\"line2d_12\">\r\n      <g>\r\n       <use style=\"stroke:#000000;stroke-width:0.8;\" x=\"331.562397\" xlink:href=\"#ma90841f9fb\" y=\"224.64\"/>\r\n      </g>\r\n     </g>\r\n     <g id=\"text_6\">\r\n      <!-- 10 -->\r\n      <g transform=\"translate(325.199897 239.238437)scale(0.1 -0.1)\">\r\n       <defs>\r\n        <path d=\"M 12.40625 8.296875 \r\nL 28.515625 8.296875 \r\nL 28.515625 63.921875 \r\nL 10.984375 60.40625 \r\nL 10.984375 69.390625 \r\nL 28.421875 72.90625 \r\nL 38.28125 72.90625 \r\nL 38.28125 8.296875 \r\nL 54.390625 8.296875 \r\nL 54.390625 0 \r\nL 12.40625 0 \r\nz\r\n\" id=\"DejaVuSans-49\"/>\r\n       </defs>\r\n       <use xlink:href=\"#DejaVuSans-49\"/>\r\n       <use x=\"63.623047\" xlink:href=\"#DejaVuSans-48\"/>\r\n      </g>\r\n     </g>\r\n    </g>\r\n   </g>\r\n   <g id=\"matplotlib.axis_2\">\r\n    <g id=\"ytick_1\">\r\n     <g id=\"line2d_13\">\r\n      <path clip-path=\"url(#p33cc91af97)\" d=\"M 39.65 224.64 \r\nL 374.45 224.64 \r\n\" style=\"fill:none;stroke:#b0b0b0;stroke-linecap:square;stroke-width:0.8;\"/>\r\n     </g>\r\n     <g id=\"line2d_14\">\r\n      <defs>\r\n       <path d=\"M 0 0 \r\nL -3.5 0 \r\n\" id=\"m693857ca1f\" style=\"stroke:#000000;stroke-width:0.8;\"/>\r\n      </defs>\r\n      <g>\r\n       <use style=\"stroke:#000000;stroke-width:0.8;\" x=\"39.65\" xlink:href=\"#m693857ca1f\" y=\"224.64\"/>\r\n      </g>\r\n     </g>\r\n     <g id=\"text_7\">\r\n      <!-- 0 -->\r\n      <g transform=\"translate(26.2875 228.439219)scale(0.1 -0.1)\">\r\n       <use xlink:href=\"#DejaVuSans-48\"/>\r\n      </g>\r\n     </g>\r\n    </g>\r\n    <g id=\"ytick_2\">\r\n     <g id=\"line2d_15\">\r\n      <path clip-path=\"url(#p33cc91af97)\" d=\"M 39.65 195.077443 \r\nL 374.45 195.077443 \r\n\" style=\"fill:none;stroke:#b0b0b0;stroke-linecap:square;stroke-width:0.8;\"/>\r\n     </g>\r\n     <g id=\"line2d_16\">\r\n      <g>\r\n       <use style=\"stroke:#000000;stroke-width:0.8;\" x=\"39.65\" xlink:href=\"#m693857ca1f\" y=\"195.077443\"/>\r\n      </g>\r\n     </g>\r\n     <g id=\"text_8\">\r\n      <!-- 200 -->\r\n      <g transform=\"translate(13.5625 198.876661)scale(0.1 -0.1)\">\r\n       <use xlink:href=\"#DejaVuSans-50\"/>\r\n       <use x=\"63.623047\" xlink:href=\"#DejaVuSans-48\"/>\r\n       <use x=\"127.246094\" xlink:href=\"#DejaVuSans-48\"/>\r\n      </g>\r\n     </g>\r\n    </g>\r\n    <g id=\"ytick_3\">\r\n     <g id=\"line2d_17\">\r\n      <path clip-path=\"url(#p33cc91af97)\" d=\"M 39.65 165.514885 \r\nL 374.45 165.514885 \r\n\" style=\"fill:none;stroke:#b0b0b0;stroke-linecap:square;stroke-width:0.8;\"/>\r\n     </g>\r\n     <g id=\"line2d_18\">\r\n      <g>\r\n       <use style=\"stroke:#000000;stroke-width:0.8;\" x=\"39.65\" xlink:href=\"#m693857ca1f\" y=\"165.514885\"/>\r\n      </g>\r\n     </g>\r\n     <g id=\"text_9\">\r\n      <!-- 400 -->\r\n      <g transform=\"translate(13.5625 169.314104)scale(0.1 -0.1)\">\r\n       <use xlink:href=\"#DejaVuSans-52\"/>\r\n       <use x=\"63.623047\" xlink:href=\"#DejaVuSans-48\"/>\r\n       <use x=\"127.246094\" xlink:href=\"#DejaVuSans-48\"/>\r\n      </g>\r\n     </g>\r\n    </g>\r\n    <g id=\"ytick_4\">\r\n     <g id=\"line2d_19\">\r\n      <path clip-path=\"url(#p33cc91af97)\" d=\"M 39.65 135.952328 \r\nL 374.45 135.952328 \r\n\" style=\"fill:none;stroke:#b0b0b0;stroke-linecap:square;stroke-width:0.8;\"/>\r\n     </g>\r\n     <g id=\"line2d_20\">\r\n      <g>\r\n       <use style=\"stroke:#000000;stroke-width:0.8;\" x=\"39.65\" xlink:href=\"#m693857ca1f\" y=\"135.952328\"/>\r\n      </g>\r\n     </g>\r\n     <g id=\"text_10\">\r\n      <!-- 600 -->\r\n      <g transform=\"translate(13.5625 139.751547)scale(0.1 -0.1)\">\r\n       <use xlink:href=\"#DejaVuSans-54\"/>\r\n       <use x=\"63.623047\" xlink:href=\"#DejaVuSans-48\"/>\r\n       <use x=\"127.246094\" xlink:href=\"#DejaVuSans-48\"/>\r\n      </g>\r\n     </g>\r\n    </g>\r\n    <g id=\"ytick_5\">\r\n     <g id=\"line2d_21\">\r\n      <path clip-path=\"url(#p33cc91af97)\" d=\"M 39.65 106.389771 \r\nL 374.45 106.389771 \r\n\" style=\"fill:none;stroke:#b0b0b0;stroke-linecap:square;stroke-width:0.8;\"/>\r\n     </g>\r\n     <g id=\"line2d_22\">\r\n      <g>\r\n       <use style=\"stroke:#000000;stroke-width:0.8;\" x=\"39.65\" xlink:href=\"#m693857ca1f\" y=\"106.389771\"/>\r\n      </g>\r\n     </g>\r\n     <g id=\"text_11\">\r\n      <!-- 800 -->\r\n      <g transform=\"translate(13.5625 110.188989)scale(0.1 -0.1)\">\r\n       <use xlink:href=\"#DejaVuSans-56\"/>\r\n       <use x=\"63.623047\" xlink:href=\"#DejaVuSans-48\"/>\r\n       <use x=\"127.246094\" xlink:href=\"#DejaVuSans-48\"/>\r\n      </g>\r\n     </g>\r\n    </g>\r\n    <g id=\"ytick_6\">\r\n     <g id=\"line2d_23\">\r\n      <path clip-path=\"url(#p33cc91af97)\" d=\"M 39.65 76.827213 \r\nL 374.45 76.827213 \r\n\" style=\"fill:none;stroke:#b0b0b0;stroke-linecap:square;stroke-width:0.8;\"/>\r\n     </g>\r\n     <g id=\"line2d_24\">\r\n      <g>\r\n       <use style=\"stroke:#000000;stroke-width:0.8;\" x=\"39.65\" xlink:href=\"#m693857ca1f\" y=\"76.827213\"/>\r\n      </g>\r\n     </g>\r\n     <g id=\"text_12\">\r\n      <!-- 1000 -->\r\n      <g transform=\"translate(7.2 80.626432)scale(0.1 -0.1)\">\r\n       <use xlink:href=\"#DejaVuSans-49\"/>\r\n       <use x=\"63.623047\" xlink:href=\"#DejaVuSans-48\"/>\r\n       <use x=\"127.246094\" xlink:href=\"#DejaVuSans-48\"/>\r\n       <use x=\"190.869141\" xlink:href=\"#DejaVuSans-48\"/>\r\n      </g>\r\n     </g>\r\n    </g>\r\n    <g id=\"ytick_7\">\r\n     <g id=\"line2d_25\">\r\n      <path clip-path=\"url(#p33cc91af97)\" d=\"M 39.65 47.264656 \r\nL 374.45 47.264656 \r\n\" style=\"fill:none;stroke:#b0b0b0;stroke-linecap:square;stroke-width:0.8;\"/>\r\n     </g>\r\n     <g id=\"line2d_26\">\r\n      <g>\r\n       <use style=\"stroke:#000000;stroke-width:0.8;\" x=\"39.65\" xlink:href=\"#m693857ca1f\" y=\"47.264656\"/>\r\n      </g>\r\n     </g>\r\n     <g id=\"text_13\">\r\n      <!-- 1200 -->\r\n      <g transform=\"translate(7.2 51.063875)scale(0.1 -0.1)\">\r\n       <use xlink:href=\"#DejaVuSans-49\"/>\r\n       <use x=\"63.623047\" xlink:href=\"#DejaVuSans-50\"/>\r\n       <use x=\"127.246094\" xlink:href=\"#DejaVuSans-48\"/>\r\n       <use x=\"190.869141\" xlink:href=\"#DejaVuSans-48\"/>\r\n      </g>\r\n     </g>\r\n    </g>\r\n    <g id=\"ytick_8\">\r\n     <g id=\"line2d_27\">\r\n      <path clip-path=\"url(#p33cc91af97)\" d=\"M 39.65 17.702099 \r\nL 374.45 17.702099 \r\n\" style=\"fill:none;stroke:#b0b0b0;stroke-linecap:square;stroke-width:0.8;\"/>\r\n     </g>\r\n     <g id=\"line2d_28\">\r\n      <g>\r\n       <use style=\"stroke:#000000;stroke-width:0.8;\" x=\"39.65\" xlink:href=\"#m693857ca1f\" y=\"17.702099\"/>\r\n      </g>\r\n     </g>\r\n     <g id=\"text_14\">\r\n      <!-- 1400 -->\r\n      <g transform=\"translate(7.2 21.501317)scale(0.1 -0.1)\">\r\n       <use xlink:href=\"#DejaVuSans-49\"/>\r\n       <use x=\"63.623047\" xlink:href=\"#DejaVuSans-52\"/>\r\n       <use x=\"127.246094\" xlink:href=\"#DejaVuSans-48\"/>\r\n       <use x=\"190.869141\" xlink:href=\"#DejaVuSans-48\"/>\r\n      </g>\r\n     </g>\r\n    </g>\r\n   </g>\r\n   <g id=\"patch_14\">\r\n    <path d=\"M 39.65 224.64 \r\nL 39.65 7.2 \r\n\" style=\"fill:none;stroke:#000000;stroke-linecap:square;stroke-linejoin:miter;stroke-width:0.8;\"/>\r\n   </g>\r\n   <g id=\"patch_15\">\r\n    <path d=\"M 374.45 224.64 \r\nL 374.45 7.2 \r\n\" style=\"fill:none;stroke:#000000;stroke-linecap:square;stroke-linejoin:miter;stroke-width:0.8;\"/>\r\n   </g>\r\n   <g id=\"patch_16\">\r\n    <path d=\"M 39.65 224.64 \r\nL 374.45 224.64 \r\n\" style=\"fill:none;stroke:#000000;stroke-linecap:square;stroke-linejoin:miter;stroke-width:0.8;\"/>\r\n   </g>\r\n   <g id=\"patch_17\">\r\n    <path d=\"M 39.65 7.2 \r\nL 374.45 7.2 \r\n\" style=\"fill:none;stroke:#000000;stroke-linecap:square;stroke-linejoin:miter;stroke-width:0.8;\"/>\r\n   </g>\r\n  </g>\r\n </g>\r\n <defs>\r\n  <clipPath id=\"p33cc91af97\">\r\n   <rect height=\"217.44\" width=\"334.8\" x=\"39.65\" y=\"7.2\"/>\r\n  </clipPath>\r\n </defs>\r\n</svg>\r\n",
      "image/png": "[encoded data removed]"
     },
     "metadata": {
      "needs_background": "light"
     }
    }
   ],
   "source": [
    "sub_df.Pred.hist(range=(0,11), bins=11)"
   ]
  },
  {
   "cell_type": "code",
   "execution_count": 10,
   "metadata": {},
   "outputs": [],
   "source": [
    "sub_df.to_csv('../pred/{0}_{1}_{2}.csv'.format(name, metric, n_neighbors), index=None, header=None)"
   ]
  },
  {
   "cell_type": "code",
   "execution_count": null,
   "metadata": {},
   "outputs": [],
   "source": []
  }
 ]
}